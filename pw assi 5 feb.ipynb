{
 "cells": [
  {
   "cell_type": "markdown",
   "id": "282d32f1",
   "metadata": {},
   "source": [
    "Q1 .Explain Class and Object with respect to Object-Oriented Programming. Give a suitable example."
   ]
  },
  {
   "cell_type": "raw",
   "id": "ebae1570",
   "metadata": {},
   "source": [
    "Answer : \n",
    "\n",
    "    * Class\n",
    "    1. Class is the user define data type that act as blueprint for individual object.\n",
    "    2. class is logical entity\n",
    "    3. it doesn't allocated memory when its created\n",
    "    4. class declare once.\n",
    "    \n",
    "    * Object\n",
    "    1. Object is the instance of class. Object is simply a collection of variable and functions.\n",
    "    2. Object is physical entity.\n",
    "    3. object allocates memory when its created\n",
    "    4. object declare many time as per requirement\n",
    "    \n",
    "    Example : \n",
    "        In real life Car . its having a attributes like colour , model.\n",
    "        Here, Car is act as class and colur , model is an object of class car"
   ]
  },
  {
   "cell_type": "code",
   "execution_count": 11,
   "id": "e75f9e86",
   "metadata": {},
   "outputs": [],
   "source": [
    "# example code\n",
    "\n",
    "#class created\n",
    "class Car:\n",
    "\n",
    "    def __init__(self, color, model):\n",
    "        self.color = color\n",
    "        self.model = model\n",
    "\n",
    "    def car_detail(self):\n",
    "        return self.color, self.model\n",
    "\n"
   ]
  },
  {
   "cell_type": "code",
   "execution_count": 13,
   "id": "e6b90717",
   "metadata": {},
   "outputs": [],
   "source": [
    "Mahindra = Car(\"black\",\"Scorpio\") # creating object"
   ]
  },
  {
   "cell_type": "code",
   "execution_count": 14,
   "id": "8ca9492b",
   "metadata": {},
   "outputs": [
    {
     "data": {
      "text/plain": [
       "'black'"
      ]
     },
     "execution_count": 14,
     "metadata": {},
     "output_type": "execute_result"
    }
   ],
   "source": [
    "Mahindra.color\n"
   ]
  },
  {
   "cell_type": "code",
   "execution_count": 15,
   "id": "b3296ffa",
   "metadata": {},
   "outputs": [
    {
     "data": {
      "text/plain": [
       "'Scorpio'"
      ]
     },
     "execution_count": 15,
     "metadata": {},
     "output_type": "execute_result"
    }
   ],
   "source": [
    "Mahindra.model"
   ]
  },
  {
   "cell_type": "code",
   "execution_count": null,
   "id": "91c31639",
   "metadata": {},
   "outputs": [],
   "source": []
  },
  {
   "cell_type": "markdown",
   "id": "19d5fb48",
   "metadata": {},
   "source": [
    "Q2 Name the four pillars of OOPs."
   ]
  },
  {
   "cell_type": "markdown",
   "id": "e891adbc",
   "metadata": {},
   "source": [
    "Answer :\n",
    "\n",
    "The four pillars of oops are : \n",
    "     \n",
    "1. Polymorphism : Its allows user to create to multiple methods with same name but different implementations. This allow coder to develop a flexible system.\n",
    "     \n",
    "2. Inheritance : when a class inherit the properties of another class is nown as Inheritance. This allow coder to reuse the code.\n",
    "   \n",
    "3. Encapsulation : It is the process of wrapping the data and related functionsminto single object . it also limit the access to object data and method and prevent it from misuse.\n",
    "      \n",
    "4. Abstraction: its display only basic information of the data and hide all the backgroung information and implementation.\n",
    "        "
   ]
  },
  {
   "cell_type": "code",
   "execution_count": null,
   "id": "673b5edd",
   "metadata": {},
   "outputs": [],
   "source": []
  },
  {
   "cell_type": "markdown",
   "id": "8782ebf2",
   "metadata": {},
   "source": [
    "Q 3. Explain why the __init__() function is used. Give a suitable example."
   ]
  },
  {
   "cell_type": "markdown",
   "id": "e60d43f6",
   "metadata": {},
   "source": [
    "Answer - \n",
    "\n",
    "1. __init__() function is a special functio in class that is automatically called when an object of that class is created.\n",
    "2. __init__() function is also called as constructor.\n",
    "3. it stands for initialize and is commonly used to set up initial state of an object.\n",
    "4. By using the __init__() method, it ensure that the necessary setup is performed when an object is created, making it easier to work with and manage instances of your class.\n",
    "\n"
   ]
  },
  {
   "cell_type": "code",
   "execution_count": 10,
   "id": "395bdc7d",
   "metadata": {},
   "outputs": [
    {
     "name": "stdout",
     "output_type": "stream",
     "text": [
      "My car is a 2022 Toyota Camry.\n",
      "The 2022 Toyota Camry's engine is now running.\n",
      "The 2022 Toyota Camry's engine is now stopped.\n"
     ]
    }
   ],
   "source": [
    "# example:\n",
    "class Car:\n",
    "\n",
    "    def __init__(self, color, model):\n",
    "        self.color = color\n",
    "        self.model = model\n",
    "\n",
    "    def car_detail(self):\n",
    "        return self.color, self.model\n",
    "\n",
    "    "
   ]
  },
  {
   "cell_type": "code",
   "execution_count": 16,
   "id": "eabff74c",
   "metadata": {},
   "outputs": [],
   "source": [
    "my_car = Car(\"Grey\",\"THAR\")"
   ]
  },
  {
   "cell_type": "code",
   "execution_count": 17,
   "id": "aec9513e",
   "metadata": {},
   "outputs": [
    {
     "data": {
      "text/plain": [
       "('Grey', 'THAR')"
      ]
     },
     "execution_count": 17,
     "metadata": {},
     "output_type": "execute_result"
    }
   ],
   "source": [
    "my_car.car_detail()"
   ]
  },
  {
   "cell_type": "code",
   "execution_count": 18,
   "id": "f672ec3d",
   "metadata": {},
   "outputs": [
    {
     "data": {
      "text/plain": [
       "'Grey'"
      ]
     },
     "execution_count": 18,
     "metadata": {},
     "output_type": "execute_result"
    }
   ],
   "source": [
    "my_car.color"
   ]
  },
  {
   "cell_type": "code",
   "execution_count": 19,
   "id": "8d705091",
   "metadata": {},
   "outputs": [
    {
     "data": {
      "text/plain": [
       "'THAR'"
      ]
     },
     "execution_count": 19,
     "metadata": {},
     "output_type": "execute_result"
    }
   ],
   "source": [
    "my_car.model"
   ]
  },
  {
   "cell_type": "code",
   "execution_count": null,
   "id": "146c66c6",
   "metadata": {},
   "outputs": [],
   "source": []
  },
  {
   "cell_type": "markdown",
   "id": "3c164709",
   "metadata": {},
   "source": [
    "Q4. Why self is used in OOPs?"
   ]
  },
  {
   "cell_type": "markdown",
   "id": "367fb03b",
   "metadata": {},
   "source": [
    "Answer-\n",
    "\n",
    "1. The self is used to represent the instance of the class.\n",
    "2. With this keyword we can access the attributes and methods of the class in python.\n",
    "3. It bind the attributes with the given arguments."
   ]
  },
  {
   "cell_type": "code",
   "execution_count": 21,
   "id": "bf5dc6f7",
   "metadata": {},
   "outputs": [],
   "source": [
    "#example \n",
    "\n",
    "class MyClass:\n",
    "    def __init__(self, value):\n",
    "        self.instance_variable = value\n",
    "\n",
    "    def print_value(self):\n",
    "        print(self.instance_variable)"
   ]
  },
  {
   "cell_type": "code",
   "execution_count": 22,
   "id": "a4656f86",
   "metadata": {},
   "outputs": [],
   "source": [
    "obj = MyClass(value=42)"
   ]
  },
  {
   "cell_type": "code",
   "execution_count": 23,
   "id": "30bb62a6",
   "metadata": {},
   "outputs": [
    {
     "name": "stdout",
     "output_type": "stream",
     "text": [
      "42\n"
     ]
    }
   ],
   "source": [
    "obj.print_value()"
   ]
  },
  {
   "cell_type": "code",
   "execution_count": null,
   "id": "15d59c6b",
   "metadata": {},
   "outputs": [],
   "source": []
  },
  {
   "cell_type": "markdown",
   "id": "7c94a291",
   "metadata": {},
   "source": [
    "Q5. What is inheritance? Give an example for each type of inheritance."
   ]
  },
  {
   "cell_type": "markdown",
   "id": "47e70116",
   "metadata": {},
   "source": [
    "Answer:"
   ]
  },
  {
   "cell_type": "markdown",
   "id": "1f5bce99",
   "metadata": {},
   "source": [
    "1. Inheritance is a concept in object-oriented programming that allows a new class to inherit properties and behaviors from an existing class.\n",
    "\n",
    "2.  This mechanism inhance code reusebility, promote modularity, and the creation of a hierarchical structure.\n",
    "\n",
    "There are several type of inheritence:\n",
    "    \n",
    "i) single inheritance : a class inherits from only one superclass.\n",
    "\n",
    "ii) multilevel inheritance: a class inherits from another class, and then another class inherits from it. This creates a chain of inheritance.\n",
    "\n",
    "iii) multiple inheritance: a class can inherit from more than one superclass "
   ]
  },
  {
   "cell_type": "code",
   "execution_count": 24,
   "id": "f778b357",
   "metadata": {},
   "outputs": [
    {
     "name": "stdout",
     "output_type": "stream",
     "text": [
      "Animal speaks\n",
      "Dog barks\n"
     ]
    }
   ],
   "source": [
    "# exapmle \n",
    "# single inheritance\n",
    "\n",
    "class Animal:\n",
    "    def speak(self):\n",
    "        print(\"Animal speaks\")\n",
    "\n",
    "class Dog(Animal):\n",
    "    def bark(self):\n",
    "        print(\"Dog barks\")\n",
    "        \n",
    "my_dog = Dog()\n",
    "my_dog.speak() \n",
    "my_dog.bark()  \n"
   ]
  },
  {
   "cell_type": "code",
   "execution_count": 28,
   "id": "c875eea1",
   "metadata": {},
   "outputs": [],
   "source": [
    "# exapmle \n",
    "# multilevel inheritance\n",
    "\n",
    "class class1:\n",
    "    def test_class1(self):\n",
    "        return \" this is a meth from class1\"\n",
    "\n",
    "class class2(class1):\n",
    "    def test_class2(self):\n",
    "        return\"this is a meth from class2\"\n",
    "\n",
    "class class3(class2):\n",
    "    pass\n",
    "\n",
    "obj_class3 = class3()"
   ]
  },
  {
   "cell_type": "code",
   "execution_count": 29,
   "id": "bcabd058",
   "metadata": {},
   "outputs": [
    {
     "data": {
      "text/plain": [
       "' this is a meth from class1'"
      ]
     },
     "execution_count": 29,
     "metadata": {},
     "output_type": "execute_result"
    }
   ],
   "source": [
    "obj_class3.test_class1()"
   ]
  },
  {
   "cell_type": "code",
   "execution_count": 30,
   "id": "e57c2975",
   "metadata": {},
   "outputs": [
    {
     "data": {
      "text/plain": [
       "'this is a meth from class2'"
      ]
     },
     "execution_count": 30,
     "metadata": {},
     "output_type": "execute_result"
    }
   ],
   "source": [
    "obj_class3.test_class2()"
   ]
  },
  {
   "cell_type": "code",
   "execution_count": null,
   "id": "463d49e4",
   "metadata": {},
   "outputs": [],
   "source": []
  },
  {
   "cell_type": "code",
   "execution_count": 31,
   "id": "b170fb2d",
   "metadata": {},
   "outputs": [],
   "source": [
    "# exapmle \n",
    "# multipel inheritance\n",
    "\n",
    "class class1:\n",
    "    \n",
    "    def test_class1(self):\n",
    "        return \"this is a class1\"\n",
    "\n",
    "class class2:\n",
    "    def test_class2(self):\n",
    "        return \"this is class2\"\n",
    "    \n",
    "class class3(class1, class2):\n",
    "    pass\n"
   ]
  },
  {
   "cell_type": "code",
   "execution_count": 32,
   "id": "9afe54f7",
   "metadata": {},
   "outputs": [
    {
     "data": {
      "text/plain": [
       "' this is a meth from class1'"
      ]
     },
     "execution_count": 32,
     "metadata": {},
     "output_type": "execute_result"
    }
   ],
   "source": [
    "obj_class3.test_class1()"
   ]
  },
  {
   "cell_type": "code",
   "execution_count": 33,
   "id": "20f7c268",
   "metadata": {},
   "outputs": [
    {
     "data": {
      "text/plain": [
       "'this is a meth from class2'"
      ]
     },
     "execution_count": 33,
     "metadata": {},
     "output_type": "execute_result"
    }
   ],
   "source": [
    "obj_class3.test_class2()"
   ]
  },
  {
   "cell_type": "code",
   "execution_count": null,
   "id": "c0c6e574",
   "metadata": {},
   "outputs": [],
   "source": []
  }
 ],
 "metadata": {
  "kernelspec": {
   "display_name": "Python 3 (ipykernel)",
   "language": "python",
   "name": "python3"
  },
  "language_info": {
   "codemirror_mode": {
    "name": "ipython",
    "version": 3
   },
   "file_extension": ".py",
   "mimetype": "text/x-python",
   "name": "python",
   "nbconvert_exporter": "python",
   "pygments_lexer": "ipython3",
   "version": "3.9.12"
  }
 },
 "nbformat": 4,
 "nbformat_minor": 5
}
