{
 "cells": [
  {
   "cell_type": "markdown",
   "id": "bd0c2ac7",
   "metadata": {},
   "source": [
    "Q 1 . What is multithreading in python? Why is it used? Name The module used to handle threads in python.\n",
    "\n",
    "Answer:\n",
    "\n",
    "1. Multithreading is defined as the ability of a processor to execute multiple threads concurrently.\n",
    "2. Each thread represents a separate flow of control and can execute different parts of a program concurrently\n",
    "\n",
    "* Multithreading is used in Python for various reasons:\n",
    "\n",
    "1. Concurrency: Multithreading allows multiple threads to execute concurrently, making it possible to perform several tasks simultaneously. \n",
    "\n",
    "2. Responsiveness: Multithreading is often used to keep the user interface responsive in graphical applications. By moving time-consuming tasks to separate threads, the main thread (responsible for the user interface) can remain responsive to user input.\n",
    "\n",
    "3. Parallelism: Although Python's Global Interpreter Lock (GIL) limits the parallel execution of multiple threads in a single process, multithreading can still be beneficial for I/O-bound tasks, where threads can perform other tasks while waiting for I/O operations to complete.\n",
    "\n",
    "* Python provides a module called \"threading\" to handle threads.\n",
    "1. The threading module in Python allows you to create, control, and synchronize threads. \n",
    "2. It provides a way to create and start threads, as well as mechanisms for synchronizing threads, such as locks, events, and conditions"
   ]
  },
  {
   "cell_type": "code",
   "execution_count": 1,
   "id": "4adfea4d",
   "metadata": {},
   "outputs": [],
   "source": [
    "# example:\n",
    "import threading"
   ]
  },
  {
   "cell_type": "code",
   "execution_count": 2,
   "id": "ce29bd3f",
   "metadata": {},
   "outputs": [],
   "source": [
    "def test(id):\n",
    "    print(\"program start %d\"% id)"
   ]
  },
  {
   "cell_type": "code",
   "execution_count": 3,
   "id": "850c30ad",
   "metadata": {},
   "outputs": [],
   "source": [
    "thread = [threading.Thread(target = test , args=(i,)) for i in range(10)]"
   ]
  },
  {
   "cell_type": "code",
   "execution_count": 5,
   "id": "4f0e2465",
   "metadata": {},
   "outputs": [
    {
     "data": {
      "text/plain": [
       "[<Thread(Thread-5, stopped 7408)>,\n",
       " <Thread(Thread-6, stopped 11260)>,\n",
       " <Thread(Thread-7, stopped 20600)>,\n",
       " <Thread(Thread-8, stopped 11196)>,\n",
       " <Thread(Thread-9, stopped 19240)>,\n",
       " <Thread(Thread-10, stopped 6752)>,\n",
       " <Thread(Thread-11, stopped 6112)>,\n",
       " <Thread(Thread-12, stopped 1768)>,\n",
       " <Thread(Thread-13, stopped 21464)>,\n",
       " <Thread(Thread-14, stopped 7688)>]"
      ]
     },
     "execution_count": 5,
     "metadata": {},
     "output_type": "execute_result"
    }
   ],
   "source": [
    "thread"
   ]
  },
  {
   "cell_type": "code",
   "execution_count": 4,
   "id": "604d1699",
   "metadata": {},
   "outputs": [
    {
     "name": "stdout",
     "output_type": "stream",
     "text": [
      "program start 0\n",
      "program start 1\n",
      "program start 2\n",
      "program start 3\n",
      "program start 4\n",
      "program start 5\n",
      "program start 6\n",
      "program start 7\n",
      "program start 8\n",
      "program start 9\n"
     ]
    }
   ],
   "source": [
    "for t in thread:\n",
    "    t.start()"
   ]
  },
  {
   "cell_type": "code",
   "execution_count": null,
   "id": "86d6aca9",
   "metadata": {},
   "outputs": [],
   "source": []
  },
  {
   "cell_type": "markdown",
   "id": "faa46263",
   "metadata": {},
   "source": [
    "Q2. Why threading module used? Write the use of the following functions:\n",
    "    \n",
    "    1. activeCount()\n",
    "    2. currentThread()\n",
    "    3. enumerate()\n",
    "    \n",
    "Answer:\n",
    " \n",
    "1. The \"threading\" module in Python is used for working with threads, allowing you to create, manage, and synchronize threads in a program.\n",
    "\n",
    "2. It provides various functions and classes to facilitate multithreaded programming.\n",
    "\n",
    "* The use of the following functions are:\n",
    "\n",
    "1. activeCount() function:\n",
    "This function returns the number of Thread objects currently alive.\n",
    "\n",
    "2. currentThread() function:\n",
    "This function returns the current Thread object corresponding to the caller.\n",
    "\n",
    "3. enumerate() function:\n",
    "This function returns a list of all Thread objects currently alive. The list includes the current thread and is equivalent to list(threading.enumerate()).\n",
    "\n",
    "\n",
    "\n",
    "    "
   ]
  },
  {
   "cell_type": "code",
   "execution_count": 6,
   "id": "ded3c02f",
   "metadata": {},
   "outputs": [
    {
     "name": "stdout",
     "output_type": "stream",
     "text": [
      "Thread is running\n",
      "Thread is running\n",
      "Active threads: 6\n"
     ]
    }
   ],
   "source": [
    "# example activeCount() :\n",
    "\n",
    "import threading\n",
    "\n",
    "def my_function():\n",
    "    print(\"Thread is running\")\n",
    "\n",
    "thread1 = threading.Thread(target=my_function)\n",
    "thread2 = threading.Thread(target=my_function)\n",
    "\n",
    "thread1.start()\n",
    "thread2.start()\n",
    "\n",
    "print(\"Active threads:\", threading.activeCount())"
   ]
  },
  {
   "cell_type": "code",
   "execution_count": 9,
   "id": "5fec4ed1",
   "metadata": {},
   "outputs": [
    {
     "name": "stdout",
     "output_type": "stream",
     "text": [
      "Thread Thread-1 is running\n",
      "Thread Thread-2 is running\n"
     ]
    }
   ],
   "source": [
    "# example currentThread() :\n",
    "\n",
    "\n",
    "def my_function():\n",
    "    current_thread = threading.currentThread()\n",
    "    print(f\"Thread {current_thread.name} is running\")\n",
    "    \n",
    "thread1 = threading.Thread(target=my_function, name=\"Thread-1\")\n",
    "thread2 = threading.Thread(target=my_function, name=\"Thread-2\")\n",
    "\n",
    "thread1.start()\n",
    "thread2.start()\n"
   ]
  },
  {
   "cell_type": "code",
   "execution_count": 12,
   "id": "9649e6be",
   "metadata": {},
   "outputs": [
    {
     "name": "stdout",
     "output_type": "stream",
     "text": [
      "Thread Thread-1 is running\n",
      "Thread Thread-2 is running\n",
      "Thread MainThread is active\n",
      "Thread IOPub is active\n",
      "Thread Heartbeat is active\n",
      "Thread Control is active\n",
      "Thread IPythonHistorySavingThread is active\n",
      "Thread Thread-4 is active\n"
     ]
    }
   ],
   "source": [
    "# example enumerate() :\n",
    "\n",
    "def my_function():\n",
    "    print(f\"Thread {threading.currentThread().name} is running\")\n",
    "\n",
    "thread1 = threading.Thread(target=my_function,name=\"Thread-1\")\n",
    "thread2 = threading.Thread(target=my_function, name=\"Thread-2\")\n",
    "\n",
    "thread1.start()\n",
    "thread2.start()\n",
    "\n",
    "for thread in threading.enumerate():\n",
    "    print(f\"Thread {thread.name} is active\")"
   ]
  },
  {
   "cell_type": "code",
   "execution_count": null,
   "id": "db907d82",
   "metadata": {},
   "outputs": [],
   "source": []
  },
  {
   "cell_type": "markdown",
   "id": "ff7eca4d",
   "metadata": {},
   "source": [
    "Q3. Explain the following functions:\n",
    "    \n",
    "    1. run()\n",
    "    2. start()\n",
    "    3. join()\n",
    "    4. isAlive()\n",
    "    \n",
    "Answer:\n",
    "\n",
    "The functions which is mention are related to the life cycle and control of threads.\n",
    "\n",
    "1. run() method:\n",
    "\n",
    "This method defines the code that will be executed when a thread is started using the start() method. You can override this method in a subclass of the Thread class to provide the specific behavior for the thread.\n",
    "\n",
    "2.start() method:\n",
    "\n",
    "This method is used to start the execution of a thread. When the start() method is called, it invokes the run() method of the thread in a separate thread of control.It is essential to call start() rather than run() directly to achieve concurrent execution.\n",
    "\n",
    "3. join() method:\n",
    "\n",
    "This method is used to wait for the thread to complete its execution. The optional timeout parameter specifies the maximum amount of time (in seconds) that the join() method should wait for the thread to finish. If timeout is not provided or set to None, the calling thread will block until the thread being joined completes.\n",
    "\n",
    "4. is_alive() method:\n",
    "\n",
    "Use: This method returns True if the thread is currently executing i.e. it has been started but has not yet finished and False otherwise."
   ]
  },
  {
   "cell_type": "code",
   "execution_count": 1,
   "id": "488375e2",
   "metadata": {},
   "outputs": [
    {
     "name": "stdout",
     "output_type": "stream",
     "text": [
      "Thread Thread-5 is running\n"
     ]
    }
   ],
   "source": [
    "# example :\n",
    "#1. run()\n",
    "\n",
    "import threading\n",
    "class MyThread(threading.Thread):\n",
    "    def run(self):\n",
    "        print(f\"Thread {self.name} is running\")\n",
    "my_thread = MyThread()\n",
    "my_thread.start()\n"
   ]
  },
  {
   "cell_type": "code",
   "execution_count": 2,
   "id": "d1d3094c",
   "metadata": {},
   "outputs": [
    {
     "name": "stdout",
     "output_type": "stream",
     "text": [
      "Thread is running\n"
     ]
    }
   ],
   "source": [
    "#2. start()\n",
    "\n",
    "import threading\n",
    "\n",
    "def my_function():\n",
    "    print(\"Thread is running\")\n",
    "\n",
    "my_thread = threading.Thread(target=my_function)\n",
    "my_thread.start()\n"
   ]
  },
  {
   "cell_type": "code",
   "execution_count": 3,
   "id": "2baba46a",
   "metadata": {},
   "outputs": [
    {
     "name": "stdout",
     "output_type": "stream",
     "text": [
      "Thread is done\n",
      "Main thread continues\n"
     ]
    }
   ],
   "source": [
    "#3. join()\n",
    "import threading\n",
    "import time\n",
    "\n",
    "def my_function():\n",
    "    time.sleep(2)\n",
    "    print(\"Thread is done\")\n",
    "\n",
    "my_thread = threading.Thread(target=my_function)\n",
    "my_thread.start()\n",
    "\n",
    "my_thread.join()\n",
    "print(\"Main thread continues\")\n"
   ]
  },
  {
   "cell_type": "code",
   "execution_count": 7,
   "id": "305b60ef",
   "metadata": {},
   "outputs": [
    {
     "name": "stdout",
     "output_type": "stream",
     "text": [
      "Is thread alive? True\n",
      "Is thread alive? False\n"
     ]
    }
   ],
   "source": [
    "#4. is_alive()\n",
    "import threading\n",
    "import time\n",
    "\n",
    "def my_function():\n",
    "    time.sleep(2)\n",
    "\n",
    "my_thread = threading.Thread(target=my_function)\n",
    "my_thread.start()\n",
    "\n",
    "print(\"Is thread alive?\", my_thread.is_alive())\n",
    "\n",
    "my_thread.join()\n",
    "\n",
    "print(\"Is thread alive?\", my_thread.is_alive())\n"
   ]
  },
  {
   "cell_type": "code",
   "execution_count": null,
   "id": "b4fe2c5b",
   "metadata": {},
   "outputs": [],
   "source": []
  },
  {
   "cell_type": "markdown",
   "id": "d96dc017",
   "metadata": {},
   "source": [
    "Q4. write a python program to create two threads . Thread one must print the list of the square and thread two must print the list of cubes"
   ]
  },
  {
   "cell_type": "code",
   "execution_count": 26,
   "id": "172575bd",
   "metadata": {},
   "outputs": [
    {
     "name": "stdout",
     "output_type": "stream",
     "text": [
      "list:[1, 2, 3, 4, 5, 6]\n",
      "square of list : [1, 4, 9, 16, 25, 36]\n",
      "cubee of list : [1, 8, 27, 64, 125, 216]\n"
     ]
    }
   ],
   "source": [
    "import threading \n",
    "\n",
    "def squares(list):\n",
    "    square_list = [x ** 2 for x in list]\n",
    "    print(f\"square of list : {square_list}\")\n",
    "    time.sleep(2)   \n",
    "    \n",
    "def cube(list):\n",
    "    cube_list = [x ** 3 for x in list]\n",
    "    print(f\"cubee of list : {cube_list}\")\n",
    "        \n",
    "list = [1,2,3,4,5,6]\n",
    "print(f\"list:{list}\")\n",
    "\n",
    "thread1 = threading.Thread(target=squares, args=(list,))\n",
    "thread2 = threading.Thread(target=cube, args=(list,)) \n",
    "\n",
    "thread1.start()\n",
    "thread2.start()"
   ]
  },
  {
   "cell_type": "code",
   "execution_count": null,
   "id": "aa7cc638",
   "metadata": {},
   "outputs": [],
   "source": []
  },
  {
   "cell_type": "markdown",
   "id": "29fb5373",
   "metadata": {},
   "source": [
    "Q5. State advantage and disadvantages of Multithreading.\n",
    "\n",
    "Answer: \n",
    "    \n",
    "* Advantages of Multithreading:\n",
    "\n",
    "1. Concurrency: Multithreading enables concurrent execution of multiple tasks within the same program, allowing for improved performance and responsiveness.\n",
    "\n",
    "2. Parallelism for I/O Operations: In I/O-bound tasks  multithreading can lead to better utilization of CPU time, as threads can perform other tasks while waiting for I/O operations to complete.\n",
    "\n",
    "3. Responsiveness: multithreading can be used to keep the user interface responsive while performing background tasks. This prevents the application from freezing during time-consuming operations.\n",
    "\n",
    "4. Resource Sharing: Threads within the same process share the same memory space, making it easier to share data and resources between them.\n",
    "\n",
    "5. Simplicity: For certain tasks, multithreading can simplify program design and control flow, making it more intuitive to implement concurrent behavior.\n",
    "\n",
    "* Disadvantages of Multithreading:\n",
    "\n",
    "1. Complexity and Difficulty: Multithreading introduces complexities such as synchronization, race conditions, and deadlock, which can be challenging to manage and debug. \n",
    "\n",
    "2. Race Conditions: Race conditions can occur when multiple threads access shared data simultaneously, leading to unexpected behavior. .\n",
    "\n",
    "3. Deadlocks: Deadlocks occur when two or more threads are blocked, each waiting for the other to release a resource. Avoiding deadlocks requires careful consideration of the order in which locks are acquired and released.\n",
    "\n",
    "4. Resource Overhead: Creating and managing threads has associated overhead in terms of memory and system resources. Creating too many threads can lead to resource exhaustion.\n",
    "\n",
    "5. Difficulty in Debugging: Debugging multithreaded applications can be challenging, as issues may not always be reproducible and can be highly dependent on timing and thread interleaving."
   ]
  },
  {
   "cell_type": "code",
   "execution_count": null,
   "id": "52169d4a",
   "metadata": {},
   "outputs": [],
   "source": []
  },
  {
   "cell_type": "markdown",
   "id": "e773495d",
   "metadata": {},
   "source": [
    "Q6. Explain Deadlocks and Race conditions.\n",
    "\n",
    "Answer:\n",
    " \n",
    "* Deadlocks:\n",
    "\n",
    "1. A deadlock is a situation in concurrent programming where two or more threads are unable to proceed because each is waiting for the other to release a resource, resulting in a cycle of dependencies. \n",
    "2. In other words, a set of processes or threads is deadlocked when each process holds a resource and is waiting for another resource acquired by some other process, creating a circular waiting condition.\n",
    "\n",
    "3. There are four necessary conditions for a deadlock to occur, often referred to as the \"deadlock conditions\" or the \"Coffman conditions.\" These conditions are:\n",
    "\n",
    "4. Mutual Exclusion: At least one resource must be held in a non-sharable mode. Only one process or thread can use the resource at a time.\n",
    "\n",
    "5. Hold and Wait: A process or thread must be holding at least one resource and waiting for additional resources that are currently being held by other processes or threads.\n",
    "\n",
    "6. No Preemption: Resources cannot be forcibly taken away from a process or thread; they must be explicitly released.\n",
    "\n",
    "7. Circular Wait: A circular chain of two or more processes or threads exists, where each process or thread is waiting for a resource held by the next one in the chain.\n",
    "\n",
    "8. To avoid deadlocks, one or more of these conditions must not hold. Strategies for dealing with deadlocks include deadlock prevention, deadlock avoidance, and deadlock detection with recovery.\n",
    "\n",
    "* Race Conditions:\n",
    "\n",
    "1. A race condition occurs in a concurrent system when the behavior of a program depends on the relative timing of events, such as the order of execution of threads or processes. \n",
    "\n",
    "2. It arises when two or more threads access shared data concurrently, and at least one of them modifies the data. \n",
    "\n",
    "3. The outcome of the program becomes unpredictable and erroneous when the execution order is different from what was expected.\n",
    "\n",
    "4. Race conditions can lead to various problems, including data corruption, inconsistent program state, and unexpected behavior. \n",
    "\n",
    "5. They are typically caused by the lack of proper synchronization mechanisms to control access to shared resources\n",
    "\n",
    "6. To prevent race conditions, developers use synchronization mechanisms such as locks, semaphores, and other concurrency control tools to ensure that only one thread can access a critical section of code at a time\n",
    "    "
   ]
  },
  {
   "cell_type": "code",
   "execution_count": null,
   "id": "945bee93",
   "metadata": {},
   "outputs": [],
   "source": []
  }
 ],
 "metadata": {
  "kernelspec": {
   "display_name": "Python 3 (ipykernel)",
   "language": "python",
   "name": "python3"
  },
  "language_info": {
   "codemirror_mode": {
    "name": "ipython",
    "version": 3
   },
   "file_extension": ".py",
   "mimetype": "text/x-python",
   "name": "python",
   "nbconvert_exporter": "python",
   "pygments_lexer": "ipython3",
   "version": "3.9.12"
  }
 },
 "nbformat": 4,
 "nbformat_minor": 5
}
