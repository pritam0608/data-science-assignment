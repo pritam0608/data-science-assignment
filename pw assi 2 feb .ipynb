{
 "cells": [
  {
   "cell_type": "markdown",
   "id": "bda5c139-573b-4c4c-af59-247bd02f4c2f",
   "metadata": {},
   "source": [
    "Q 1. Explain with an example each when to use a for loop and a while loop.\n",
    "\n",
    "Answer :\n",
    "\n",
    "Use of \"for loop\" \n",
    "* we use for lop when we know the number of iteration or specific element we want to iterate.\n",
    "* For loop is ver convenient for iterating the element , when we are working with List , Tuples or strings."
   ]
  },
  {
   "cell_type": "markdown",
   "id": "bc610b9b-3334-4ae9-b2ce-0a083a6c9187",
   "metadata": {},
   "source": [
    "Example \"For loop\""
   ]
  },
  {
   "cell_type": "code",
   "execution_count": 7,
   "id": "b08c5866-78c4-4317-92af-b59ae3c27e1f",
   "metadata": {},
   "outputs": [
    {
     "name": "stdout",
     "output_type": "stream",
     "text": [
      "0\n",
      "1\n",
      "2\n",
      "3\n",
      "4\n",
      "5\n",
      "6\n",
      "7\n"
     ]
    }
   ],
   "source": [
    "for i in range(8):\n",
    "    print(i)\n"
   ]
  },
  {
   "cell_type": "code",
   "execution_count": 8,
   "id": "0ba3cdcf-4ed9-4a8c-9d5a-50da179f56b2",
   "metadata": {},
   "outputs": [
    {
     "name": "stdout",
     "output_type": "stream",
     "text": [
      "BMW\n",
      "Audi\n",
      "Maruti\n"
     ]
    }
   ],
   "source": [
    "cars = ['BMW', 'Audi', 'Maruti']\n",
    "for car in cars:\n",
    "    print(car)\n"
   ]
  },
  {
   "cell_type": "markdown",
   "id": "6c034c20-0c08-4ef0-b958-16307d071946",
   "metadata": {},
   "source": [
    "\n",
    "Use of While Loop\n",
    "* when we are not sure how many times a loop needs to run and the loop should continue until a certain condition is met, then a while loop is appropriate to use.\n",
    "* When we need to repeat an action until a certain condition is met then While loop is best to use.\n",
    "\n",
    "Example \"While loop\""
   ]
  },
  {
   "cell_type": "code",
   "execution_count": 9,
   "id": "d78876db-d4c0-41c7-9c52-62a75142269e",
   "metadata": {},
   "outputs": [
    {
     "name": "stdout",
     "output_type": "stream",
     "text": [
      "0\n",
      "1\n",
      "2\n",
      "3\n",
      "4\n",
      "5\n",
      "6\n",
      "7\n"
     ]
    }
   ],
   "source": [
    "count = 0\n",
    "while count < 8:\n",
    "    print(count)\n",
    "    count += 1\n"
   ]
  },
  {
   "cell_type": "code",
   "execution_count": 11,
   "id": "4670f8c2-bd9b-432b-8191-ab7b0ea9c357",
   "metadata": {},
   "outputs": [
    {
     "name": "stdin",
     "output_type": "stream",
     "text": [
      "Enter a number:  20\n"
     ]
    },
    {
     "name": "stdout",
     "output_type": "stream",
     "text": [
      "Current total: 20\n"
     ]
    },
    {
     "name": "stdin",
     "output_type": "stream",
     "text": [
      "Enter a number:  30\n"
     ]
    },
    {
     "name": "stdout",
     "output_type": "stream",
     "text": [
      "Current total: 50\n"
     ]
    }
   ],
   "source": [
    "total = 0\n",
    "while total < 50:\n",
    "    number = int(input(\"Enter a number: \"))\n",
    "    total += number\n",
    "    print(\"Current total:\", total)\n"
   ]
  },
  {
   "cell_type": "code",
   "execution_count": null,
   "id": "81cd267f-03ae-4dd2-b3a7-5ba3dc48e703",
   "metadata": {},
   "outputs": [],
   "source": []
  },
  {
   "cell_type": "markdown",
   "id": "c00c0f8e-2e09-42ea-a52e-766037cd42ae",
   "metadata": {},
   "source": [
    "Q 2. Write a python program to print the sum and product of the first 10 natural numbers using for and while loop.\n",
    " \n",
    "Answer:"
   ]
  },
  {
   "cell_type": "code",
   "execution_count": 12,
   "id": "77849ffc-a665-4d15-aeab-f1015799feb6",
   "metadata": {},
   "outputs": [
    {
     "name": "stdout",
     "output_type": "stream",
     "text": [
      "using For Loop\n",
      "........................\n",
      "sum of first 10 naturals number s : 55\n",
      "product of first 10 naturals numbers : 3628800\n"
     ]
    }
   ],
   "source": [
    "# for loop \n",
    "\n",
    "result = 0\n",
    "product = 1\n",
    "\n",
    "for i in range(1,11):\n",
    "    result = result + i\n",
    "    product = product * i\n",
    "print(\"using For Loop\")\n",
    "print(\"........................\")\n",
    "print(\"sum of first 10 naturals number s :\" , result)\n",
    "print(\"product of first 10 naturals numbers :\" , product)"
   ]
  },
  {
   "cell_type": "code",
   "execution_count": 13,
   "id": "1d2923ad-4d3b-4d0e-b7b7-82cea534000b",
   "metadata": {},
   "outputs": [
    {
     "name": "stdout",
     "output_type": "stream",
     "text": [
      "using while Loop\n",
      "........................\n",
      "sum of first 10 naturals numbers : 55\n",
      "product of first 10 naturals numbers : 3628800\n"
     ]
    }
   ],
   "source": [
    "# while loop\n",
    "counter = 1\n",
    "result = 0\n",
    "product = 1\n",
    "\n",
    "while counter <= 10 :\n",
    "    result = result + counter\n",
    "    product = product * counter\n",
    "    counter = counter + 1\n",
    "    \n",
    "print(\"using while Loop\")\n",
    "print(\"........................\")   \n",
    "print(\"sum of first 10 naturals numbers :\" , result)\n",
    "print(\"product of first 10 naturals numbers :\" , product)"
   ]
  },
  {
   "cell_type": "code",
   "execution_count": null,
   "id": "a9f10cec-4516-4334-9c87-fb1bf9abc7ab",
   "metadata": {},
   "outputs": [],
   "source": []
  },
  {
   "cell_type": "markdown",
   "id": "78a459b2-29ee-4b2e-93f8-58adbe4650a1",
   "metadata": {},
   "source": [
    "Q 3. create a python program to compute the electricity bill for a household.\n",
    "The per-unit charges in rupees are as follows: For the first 100 units, the user will be charged Rs. 4.5 per\n",
    "unit, for the next 100 units, the user will be charged Rs. 6 per unit, and for the next 100 units, the user will\n",
    "be charged Rs. 10 per unit, After 300 units and above the user will be charged Rs. 20 per unit.\n",
    "\n",
    "You are required to take the units of electricity consumed in a month from the user as input.\n",
    "\n",
    "Your program must pass this test case: when the unit of electricity consumed by the user in a month is\n",
    "310, the total electricity bill should be 2250."
   ]
  },
  {
   "cell_type": "markdown",
   "id": "12e27130-c55b-43a7-a82d-4ab5c5e2d148",
   "metadata": {},
   "source": [
    "Answer:"
   ]
  },
  {
   "cell_type": "code",
   "execution_count": 14,
   "id": "98a3e2e1-1acb-4670-8b75-ca1308669098",
   "metadata": {},
   "outputs": [
    {
     "name": "stdin",
     "output_type": "stream",
     "text": [
      "Enter the units of electricity consumed :  310\n"
     ]
    },
    {
     "name": "stdout",
     "output_type": "stream",
     "text": [
      "The total electricity bill is Rs. 2250.0\n"
     ]
    }
   ],
   "source": [
    "units  = int(input(\"Enter the units of electricity consumed : \"))\n",
    "total_bill = 0\n",
    "\n",
    "#for 1st 100 units at cost 4.5/unit\n",
    "if units > 0:\n",
    "    total_bill += min(units, 100) * 4.5\n",
    "    units -= min(units, 100)\n",
    "\n",
    "#for 2nd 100 units at cost 6/unit\n",
    "if units > 0:\n",
    "    total_bill += min(units, 100) * 6\n",
    "    units -= min(units, 100)\n",
    "\n",
    "#for 3rd 100 units at cost 10/unit\n",
    "if units > 0:\n",
    "    total_bill += min(units, 100) * 10\n",
    "    units -= min(units, 100)\n",
    "\n",
    "#for rest of the units at cost 10/unit\n",
    "if units > 0:\n",
    "    total_bill += units * 20\n",
    "\n",
    "print(\"The total electricity bill is Rs.\", total_bill)"
   ]
  },
  {
   "cell_type": "code",
   "execution_count": null,
   "id": "30eeee11-86e4-4d8f-ac17-4b30075feb51",
   "metadata": {},
   "outputs": [],
   "source": []
  },
  {
   "cell_type": "markdown",
   "id": "ae5daf05-56f6-4ad9-a246-33920404a8dd",
   "metadata": {},
   "source": [
    "Q 4.  Create a list of numbers from 1 to 100. Use for loop and while loop to calculate the cube of each\n",
    "number and if the cube of that number is divisible by 4 or 5 then append that number in a list and print\n",
    "that list."
   ]
  },
  {
   "cell_type": "code",
   "execution_count": 15,
   "id": "ed0c1fee-4e99-4301-b74b-279485bdfeaa",
   "metadata": {},
   "outputs": [
    {
     "name": "stdout",
     "output_type": "stream",
     "text": [
      "list of number from 1 to 100 \n",
      "\n",
      "[1, 2, 3, 4, 5, 6, 7, 8, 9, 10, 11, 12, 13, 14, 15, 16, 17, 18, 19, 20, 21, 22, 23, 24, 25, 26, 27, 28, 29, 30, 31, 32, 33, 34, 35, 36, 37, 38, 39, 40, 41, 42, 43, 44, 45, 46, 47, 48, 49, 50, 51, 52, 53, 54, 55, 56, 57, 58, 59, 60, 61, 62, 63, 64, 65, 66, 67, 68, 69, 70, 71, 72, 73, 74, 75, 76, 77, 78, 79, 80, 81, 82, 83, 84, 85, 86, 87, 88, 89, 90, 91, 92, 93, 94, 95, 96, 97, 98, 99, 100]\n",
      "\n",
      "cube of each number in th list \n",
      "\n",
      "1\n",
      "8\n",
      "27\n",
      "64\n",
      "125\n",
      "216\n",
      "343\n",
      "512\n",
      "729\n",
      "1000\n",
      "1331\n",
      "1728\n",
      "2197\n",
      "2744\n",
      "3375\n",
      "4096\n",
      "4913\n",
      "5832\n",
      "6859\n",
      "8000\n",
      "9261\n",
      "10648\n",
      "12167\n",
      "13824\n",
      "15625\n",
      "17576\n",
      "19683\n",
      "21952\n",
      "24389\n",
      "27000\n",
      "29791\n",
      "32768\n",
      "35937\n",
      "39304\n",
      "42875\n",
      "46656\n",
      "50653\n",
      "54872\n",
      "59319\n",
      "64000\n",
      "68921\n",
      "74088\n",
      "79507\n",
      "85184\n",
      "91125\n",
      "97336\n",
      "103823\n",
      "110592\n",
      "117649\n",
      "125000\n",
      "132651\n",
      "140608\n",
      "148877\n",
      "157464\n",
      "166375\n",
      "175616\n",
      "185193\n",
      "195112\n",
      "205379\n",
      "216000\n",
      "226981\n",
      "238328\n",
      "250047\n",
      "262144\n",
      "274625\n",
      "287496\n",
      "300763\n",
      "314432\n",
      "328509\n",
      "343000\n",
      "357911\n",
      "373248\n",
      "389017\n",
      "405224\n",
      "421875\n",
      "438976\n",
      "456533\n",
      "474552\n",
      "493039\n",
      "512000\n",
      "531441\n",
      "551368\n",
      "571787\n",
      "592704\n",
      "614125\n",
      "636056\n",
      "658503\n",
      "681472\n",
      "704969\n",
      "729000\n",
      "753571\n",
      "778688\n",
      "804357\n",
      "830584\n",
      "857375\n",
      "884736\n",
      "912673\n",
      "941192\n",
      "970299\n",
      "1000000\n",
      "\n",
      "list conatining number whose cube is divisible by 4 or 5 \n",
      "\n",
      "[2, 4, 5, 6, 8, 10, 12, 14, 15, 16, 18, 20, 22, 24, 25, 26, 28, 30, 32, 34, 35, 36, 38, 40, 42, 44, 45, 46, 48, 50, 52, 54, 55, 56, 58, 60, 62, 64, 65, 66, 68, 70, 72, 74, 75, 76, 78, 80, 82, 84, 85, 86, 88, 90, 92, 94, 95, 96, 98, 100]\n"
     ]
    }
   ],
   "source": [
    "l= list(range(1,101))\n",
    "print(\"list of number from 1 to 100 \\n\")\n",
    "print(l)\n",
    "\n",
    "l1=[]\n",
    "\n",
    "print(\"\\ncube of each number in th list \\n\")\n",
    "for i in l:\n",
    "    print(i**3)\n",
    "    \n",
    "    if (i**3)% 4 == 0 or (i**3)% 5 == 0 :\n",
    "        l1.append(i)\n",
    "        \n",
    "print(\"\\nlist conatining number whose cube is divisible by 4 or 5 \\n\")\n",
    "print(l1)\n"
   ]
  },
  {
   "cell_type": "code",
   "execution_count": 1,
   "id": "48b0879a-78e7-40f4-a978-b902c9ea7450",
   "metadata": {},
   "outputs": [
    {
     "name": "stdout",
     "output_type": "stream",
     "text": [
      "list of number from 1 to 100 \n",
      "\n",
      "[1, 2, 3, 4, 5, 6, 7, 8, 9, 10, 11, 12, 13, 14, 15, 16, 17, 18, 19, 20, 21, 22, 23, 24, 25, 26, 27, 28, 29, 30, 31, 32, 33, 34, 35, 36, 37, 38, 39, 40, 41, 42, 43, 44, 45, 46, 47, 48, 49, 50, 51, 52, 53, 54, 55, 56, 57, 58, 59, 60, 61, 62, 63, 64, 65, 66, 67, 68, 69, 70, 71, 72, 73, 74, 75, 76, 77, 78, 79, 80, 81, 82, 83, 84, 85, 86, 87, 88, 89, 90, 91, 92, 93, 94, 95, 96, 97, 98, 99, 100]\n",
      "\n",
      "cube of each number in th list \n",
      "\n",
      "1\n",
      "8\n",
      "27\n",
      "64\n",
      "125\n",
      "216\n",
      "343\n",
      "512\n",
      "729\n",
      "1000\n",
      "1331\n",
      "1728\n",
      "2197\n",
      "2744\n",
      "3375\n",
      "4096\n",
      "4913\n",
      "5832\n",
      "6859\n",
      "8000\n",
      "9261\n",
      "10648\n",
      "12167\n",
      "13824\n",
      "15625\n",
      "17576\n",
      "19683\n",
      "21952\n",
      "24389\n",
      "27000\n",
      "29791\n",
      "32768\n",
      "35937\n",
      "39304\n",
      "42875\n",
      "46656\n",
      "50653\n",
      "54872\n",
      "59319\n",
      "64000\n",
      "68921\n",
      "74088\n",
      "79507\n",
      "85184\n",
      "91125\n",
      "97336\n",
      "103823\n",
      "110592\n",
      "117649\n",
      "125000\n",
      "132651\n",
      "140608\n",
      "148877\n",
      "157464\n",
      "166375\n",
      "175616\n",
      "185193\n",
      "195112\n",
      "205379\n",
      "216000\n",
      "226981\n",
      "238328\n",
      "250047\n",
      "262144\n",
      "274625\n",
      "287496\n",
      "300763\n",
      "314432\n",
      "328509\n",
      "343000\n",
      "357911\n",
      "373248\n",
      "389017\n",
      "405224\n",
      "421875\n",
      "438976\n",
      "456533\n",
      "474552\n",
      "493039\n",
      "512000\n",
      "531441\n",
      "551368\n",
      "571787\n",
      "592704\n",
      "614125\n",
      "636056\n",
      "658503\n",
      "681472\n",
      "704969\n",
      "729000\n",
      "753571\n",
      "778688\n",
      "804357\n",
      "830584\n",
      "857375\n",
      "884736\n",
      "912673\n",
      "941192\n",
      "970299\n",
      "1000000\n",
      "\n",
      "list conatining number whose cube is divisible by 4 or 5 \n",
      "\n",
      "[2, 4, 5, 6, 8, 10, 12, 14, 15, 16, 18, 20, 22, 24, 25, 26, 28, 30, 32, 34, 35, 36, 38, 40, 42, 44, 45, 46, 48, 50, 52, 54, 55, 56, 58, 60, 62, 64, 65, 66, 68, 70, 72, 74, 75, 76, 78, 80, 82, 84, 85, 86, 88, 90, 92, 94, 95, 96, 98, 100]\n"
     ]
    }
   ],
   "source": [
    "# using while loop\n",
    "\n",
    "l= list(range(1,101))\n",
    "print(\"list of number from 1 to 100 \\n\")\n",
    "print(l)\n",
    "\n",
    "l1=[]\n",
    "counter = 1\n",
    "print(\"\\ncube of each number in th list \\n\")\n",
    "\n",
    "while counter <= l[-1]:\n",
    "    print(counter**3)\n",
    "    \n",
    "    if (counter**3)% 4 == 0 or (counter**3)% 5 == 0 :\n",
    "        l1.append(counter)\n",
    "    counter += 1\n",
    "\n",
    "print(\"\\nlist conatining number whose cube is divisible by 4 or 5 \\n\")\n",
    "print(l1)"
   ]
  },
  {
   "cell_type": "code",
   "execution_count": null,
   "id": "624967c8-0fbb-4e6d-9e67-aff41877a4e8",
   "metadata": {},
   "outputs": [],
   "source": []
  },
  {
   "cell_type": "markdown",
   "id": "98989892-f4cb-4720-86a1-e10da470dc04",
   "metadata": {},
   "source": [
    "Q 5.  Write a program to filter count vowels in the below-given string.\n",
    "\n",
    "string = \"I want to become a data scientist\""
   ]
  },
  {
   "cell_type": "markdown",
   "id": "4779fbe2-6971-4398-be13-c25f872858cd",
   "metadata": {},
   "source": [
    "Answer:"
   ]
  },
  {
   "cell_type": "code",
   "execution_count": 6,
   "id": "136095db-d63e-40e2-9a99-f39f56f7f7b3",
   "metadata": {},
   "outputs": [
    {
     "name": "stdout",
     "output_type": "stream",
     "text": [
      "I\n",
      "a\n",
      "o\n",
      "e\n",
      "o\n",
      "e\n",
      "a\n",
      "a\n",
      "a\n",
      "i\n",
      "e\n",
      "i\n",
      "number of vowels in given string are: 12\n"
     ]
    }
   ],
   "source": [
    "string = \"I want to become a data scientist\"\n",
    "vowels= \"AEIOUaeiou\"\n",
    "\n",
    "count = 0\n",
    "for i in string :\n",
    "    if i in vowels:\n",
    "        print(i)\n",
    "        count = count+1\n",
    "        \n",
    "print(\"number of vowels in given string are:\", count)"
   ]
  },
  {
   "cell_type": "code",
   "execution_count": null,
   "id": "39711add-ce72-402f-bb65-cad9eb80558a",
   "metadata": {},
   "outputs": [],
   "source": []
  }
 ],
 "metadata": {
  "kernelspec": {
   "display_name": "Python 3 (ipykernel)",
   "language": "python",
   "name": "python3"
  },
  "language_info": {
   "codemirror_mode": {
    "name": "ipython",
    "version": 3
   },
   "file_extension": ".py",
   "mimetype": "text/x-python",
   "name": "python",
   "nbconvert_exporter": "python",
   "pygments_lexer": "ipython3",
   "version": "3.10.8"
  }
 },
 "nbformat": 4,
 "nbformat_minor": 5
}
