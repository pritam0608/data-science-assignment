{
 "cells": [
  {
   "cell_type": "markdown",
   "id": "5fd8db42-938e-4c9b-8567-bd80be59b14f",
   "metadata": {},
   "source": [
    "Q1. Which function is used to open a file? What are the different modes of opening a file? Explain each mode\n",
    "of file opening.\n",
    "\n",
    "Answer:\n",
    "    \n",
    "1. In Python, the open() function is used to open a file. The open() function takes two parameters: the file name and the mode. \n",
    "2. The modes determine the type of operations that can be performed on the file. \n",
    "    \n",
    "* The different modes of opening a file are :\n",
    "\n",
    "1. 'r' (Read): This is the default mode. It opens the file for reading, and if the file does not exist, it raises an error.\n",
    "\n",
    "2. 'w' (Write): It opens the file for writing. If the file already exists, it truncates the file to zero length. If the file does not exist, it creates a new file.\n",
    "\n",
    "3. 'a' (Append): It opens the file for writing, but if the file exists, it appends the new data to the end of the file.\n",
    "\n",
    "4. 'b' (Binary): It is used in conjunction with other modes to open the file in binary mode. For example, 'rb' or 'wb'.\n",
    "\n",
    "5. 'x' (Exclusive creation): It opens the file for exclusive creation. If the file already exists, the operation will fail.\n",
    "\n",
    "6. 't' (Text): It is the default mode for text files. If specified, it opens the file in text mode. For example, 'rt' or 'wt'."
   ]
  },
  {
   "cell_type": "code",
   "execution_count": null,
   "id": "a2ad3c39-e586-40aa-889d-2d25c0ff0c2f",
   "metadata": {},
   "outputs": [],
   "source": []
  },
  {
   "cell_type": "markdown",
   "id": "e8dc76a0-d633-49ac-b8a5-ea6e6df9ebaa",
   "metadata": {},
   "source": [
    "Q2. Why close() function is used? Why is it important to close a file?\n",
    "\n",
    "Answer:\n",
    "    \n",
    "1. The close() function is used to close a file that has been opened using the open() function. \n",
    "\n",
    "* It is important to close a file for several reasons:\n",
    "\n",
    "1. Resource Release: Closing a file releases the system resources associated with it. This is important to free up resources and avoid potential issues related to file locks or other operating system constraints.\n",
    "\n",
    "2. Data Integrity: Closing a file ensures that all the data has been written to the file before it is closed. This helps in maintaining data integrity.\n",
    "\n",
    "3. Avoiding Data Corruption: Failing to close a file properly may result in data corruption or loss, especially when writing to a file. Closing the file ensures that all the changes are committed.\n"
   ]
  },
  {
   "cell_type": "code",
   "execution_count": null,
   "id": "6f31d107-f388-451c-94f0-458f82bd6601",
   "metadata": {},
   "outputs": [],
   "source": []
  },
  {
   "cell_type": "markdown",
   "id": "d942a243-f0d0-4b48-9042-1ec152e4c065",
   "metadata": {},
   "source": [
    "Q3. Write a python program to create a text file. Write ‘I want to become a Data Scientist’ in that file. Then\n",
    "close the file. Open this file and read the content of the file.\n",
    "\n",
    "Answer: "
   ]
  },
  {
   "cell_type": "code",
   "execution_count": 4,
   "id": "bb13f353-57ea-4eed-b1cb-f9ce0de41709",
   "metadata": {},
   "outputs": [],
   "source": [
    "# creating file\n",
    "f = open(\"data_science.txt\", 'w')"
   ]
  },
  {
   "cell_type": "code",
   "execution_count": 5,
   "id": "055a824d-a6eb-4477-9428-26bdcf6e638e",
   "metadata": {},
   "outputs": [
    {
     "data": {
      "text/plain": [
       "33"
      ]
     },
     "execution_count": 5,
     "metadata": {},
     "output_type": "execute_result"
    }
   ],
   "source": [
    "# writing in file\n",
    "f.write('I want to become a Data Scientist')"
   ]
  },
  {
   "cell_type": "code",
   "execution_count": 6,
   "id": "8feaeb33-bde8-499c-8cc9-0f8b331156a8",
   "metadata": {},
   "outputs": [],
   "source": [
    "#close the file\n",
    "f.close()"
   ]
  },
  {
   "cell_type": "code",
   "execution_count": 7,
   "id": "d11d2640-8d70-4a52-b5df-92c2e9b701f5",
   "metadata": {},
   "outputs": [],
   "source": [
    "# open the file in read mode \n",
    "file = open(\"data_science.txt\" , 'r')"
   ]
  },
  {
   "cell_type": "code",
   "execution_count": 8,
   "id": "46652867-249d-4a5c-9e3a-dbcd67c8fdd0",
   "metadata": {},
   "outputs": [
    {
     "data": {
      "text/plain": [
       "'I want to become a Data Scientist'"
      ]
     },
     "execution_count": 8,
     "metadata": {},
     "output_type": "execute_result"
    }
   ],
   "source": [
    "# read the file\n",
    "file.read()"
   ]
  },
  {
   "cell_type": "code",
   "execution_count": null,
   "id": "59603c6c-0f26-45dd-bf25-a7db02f06910",
   "metadata": {},
   "outputs": [],
   "source": []
  },
  {
   "cell_type": "markdown",
   "id": "8bb4e3eb-a5ee-4b3b-bd1d-3e45416cff10",
   "metadata": {},
   "source": [
    "Q4. Explain the following with python code: read(), readline() and readlines().\n",
    "\n",
    "Anser: \n",
    "    \n",
    "    1. read(): Reads the entire content of the file as a string.\n",
    "    2. readline(): Reads a single line from the file.\n",
    "    3. readlines(): Reads all the lines of the file and returns a list of strings.\n",
    "    \n",
    "* All things are showed below with help of example and code"
   ]
  },
  {
   "cell_type": "code",
   "execution_count": 9,
   "id": "cf5cada8-87e1-4cbe-892e-b916ba163775",
   "metadata": {},
   "outputs": [],
   "source": [
    "# code\n",
    "f = open(\"test.txt\",'a')"
   ]
  },
  {
   "cell_type": "code",
   "execution_count": 10,
   "id": "4d3b9283-e29f-4749-9640-d9f1b19dad2e",
   "metadata": {},
   "outputs": [
    {
     "data": {
      "text/plain": [
       "765"
      ]
     },
     "execution_count": 10,
     "metadata": {},
     "output_type": "execute_result"
    }
   ],
   "source": [
    "f.write(\"Data Science Masters course is highly curated and uniquely designed according to the latest industry standards. This program instills students the skills essential to knowledge discovery efforts to identify standard, novel, and truly differentiated solutions and decision-making, including skills in managing, querying, analyzing, visualizing, and extracting meaning from extremely large data sets. This trending program provides students with the statistical, mathematical and computational skills needed to meet the large-scale data science challenges of today's professional world. You will learn all the stack required to work in data science industry including cloud infrastructure and real-time industry projects. This course will be taught in Hindi language.\")"
   ]
  },
  {
   "cell_type": "code",
   "execution_count": 11,
   "id": "275c407f-425c-4d21-9787-24d40e19c7c4",
   "metadata": {},
   "outputs": [],
   "source": [
    "f.close()"
   ]
  },
  {
   "cell_type": "code",
   "execution_count": 12,
   "id": "358f37e1-3650-48ed-a570-5301070010d4",
   "metadata": {},
   "outputs": [],
   "source": [
    "data = open(\"test.txt\" , 'r')"
   ]
  },
  {
   "cell_type": "code",
   "execution_count": 13,
   "id": "f9e4106b-71c6-4089-989f-3ebb84fc3689",
   "metadata": {},
   "outputs": [
    {
     "data": {
      "text/plain": [
       "\"Data Science Masters course is highly curated and uniquely designed according to the latest industry standards. This program instills students the skills essential to knowledge discovery efforts to identify standard, novel, and truly differentiated solutions and decision-making, including skills in managing, querying, analyzing, visualizing, and extracting meaning from extremely large data sets. This trending program provides students with the statistical, mathematical and computational skills needed to meet the large-scale data science challenges of today's professional world. You will learn all the stack required to work in data science industry including cloud infrastructure and real-time industry projects. This course will be taught in Hindi language.\""
      ]
     },
     "execution_count": 13,
     "metadata": {},
     "output_type": "execute_result"
    }
   ],
   "source": [
    "# read()\n",
    "data.read()"
   ]
  },
  {
   "cell_type": "code",
   "execution_count": 14,
   "id": "0683ab9f-02f8-49c3-bb2f-49bbdddf229d",
   "metadata": {},
   "outputs": [
    {
     "data": {
      "text/plain": [
       "0"
      ]
     },
     "execution_count": 14,
     "metadata": {},
     "output_type": "execute_result"
    }
   ],
   "source": [
    "data.seek(0)"
   ]
  },
  {
   "cell_type": "code",
   "execution_count": 15,
   "id": "b5f12890-49b0-4b9a-acf8-7c5a92b0a519",
   "metadata": {},
   "outputs": [
    {
     "data": {
      "text/plain": [
       "\"Data Science Masters course is highly curated and uniquely designed according to the latest industry standards. This program instills students the skills essential to knowledge discovery efforts to identify standard, novel, and truly differentiated solutions and decision-making, including skills in managing, querying, analyzing, visualizing, and extracting meaning from extremely large data sets. This trending program provides students with the statistical, mathematical and computational skills needed to meet the large-scale data science challenges of today's professional world. You will learn all the stack required to work in data science industry including cloud infrastructure and real-time industry projects. This course will be taught in Hindi language.\""
      ]
     },
     "execution_count": 15,
     "metadata": {},
     "output_type": "execute_result"
    }
   ],
   "source": [
    "# readline()\n",
    "data.readline()"
   ]
  },
  {
   "cell_type": "code",
   "execution_count": 17,
   "id": "940da692-3a76-47d8-bc40-9ae044d61296",
   "metadata": {},
   "outputs": [
    {
     "data": {
      "text/plain": [
       "0"
      ]
     },
     "execution_count": 17,
     "metadata": {},
     "output_type": "execute_result"
    }
   ],
   "source": [
    "data.seek(0)"
   ]
  },
  {
   "cell_type": "code",
   "execution_count": 18,
   "id": "727abe4f-2278-4ba6-984f-f8cb18b12247",
   "metadata": {},
   "outputs": [
    {
     "data": {
      "text/plain": [
       "[\"Data Science Masters course is highly curated and uniquely designed according to the latest industry standards. This program instills students the skills essential to knowledge discovery efforts to identify standard, novel, and truly differentiated solutions and decision-making, including skills in managing, querying, analyzing, visualizing, and extracting meaning from extremely large data sets. This trending program provides students with the statistical, mathematical and computational skills needed to meet the large-scale data science challenges of today's professional world. You will learn all the stack required to work in data science industry including cloud infrastructure and real-time industry projects. This course will be taught in Hindi language.\"]"
      ]
     },
     "execution_count": 18,
     "metadata": {},
     "output_type": "execute_result"
    }
   ],
   "source": [
    "# readlines()\n",
    "\n",
    "data.readlines()"
   ]
  },
  {
   "cell_type": "code",
   "execution_count": null,
   "id": "5dca3dc5-acf3-49fe-84bb-b3dfc7860146",
   "metadata": {},
   "outputs": [],
   "source": []
  },
  {
   "cell_type": "markdown",
   "id": "2357e60f-4745-4857-a3c1-44464a208032",
   "metadata": {},
   "source": [
    "Q5. Explain why with statement is used with open(). What is the advantage of using with statement and\n",
    "open() together?\n",
    "\n",
    "Answer:\n",
    "    \n",
    "    1. The with statement is used with open() to ensure that the file is properly closed after usage. \n",
    "    2. The advantage of using them together is that it automatically takes care of closing the file, even if an exception occurs within the block. \n",
    "    3. It provides better exception handling and simplifies the code.\n"
   ]
  },
  {
   "cell_type": "code",
   "execution_count": 19,
   "id": "04a50fd8-5e24-487e-8c9c-4a42773d0e55",
   "metadata": {},
   "outputs": [
    {
     "name": "stdout",
     "output_type": "stream",
     "text": [
      "I want to become a Data Scientist\n"
     ]
    }
   ],
   "source": [
    "with open('data_science.txt', 'r') as file:\n",
    "    content = file.read()\n",
    "    \n",
    "    print(content)\n"
   ]
  },
  {
   "cell_type": "code",
   "execution_count": null,
   "id": "3f177d3b-b9d9-496f-8e81-077512b750d3",
   "metadata": {},
   "outputs": [],
   "source": []
  },
  {
   "cell_type": "markdown",
   "id": "946eb350-3dcd-44f9-a1c0-b3b4f60c7e9e",
   "metadata": {},
   "source": [
    "Q6. Explain the write() and writelines() functions. Give a suitable example.\n",
    "\n",
    "Answer:\n",
    "    \n",
    "    1. write(): Writes a string to the file.\n",
    "    2. writelines(): Writes a list of strings to the file.\n",
    "\n",
    "* All things are showed below with help of example and code"
   ]
  },
  {
   "cell_type": "code",
   "execution_count": 21,
   "id": "5be1acd3-8c1a-424e-ac98-8337cee9f439",
   "metadata": {},
   "outputs": [],
   "source": [
    "# write()\n",
    "\n",
    "with open('output.txt', 'w') as file:\n",
    "    file.write('This is a sample text.')"
   ]
  },
  {
   "cell_type": "code",
   "execution_count": 25,
   "id": "02a99380-344f-4ddf-a0e0-ceacf392cc35",
   "metadata": {},
   "outputs": [],
   "source": [
    "# writelines()\n",
    "\n",
    "lines = ['Pritam Raj\\n', 'CSE student\\n', 'Data Scientiest\\n']\n",
    "with open('output1.txt', 'w') as file:\n",
    "    file.writelines(lines)\n"
   ]
  },
  {
   "cell_type": "code",
   "execution_count": null,
   "id": "5f115c7d-136d-4bf3-9bfc-b32e9055a901",
   "metadata": {},
   "outputs": [],
   "source": []
  }
 ],
 "metadata": {
  "kernelspec": {
   "display_name": "Python 3 (ipykernel)",
   "language": "python",
   "name": "python3"
  },
  "language_info": {
   "codemirror_mode": {
    "name": "ipython",
    "version": 3
   },
   "file_extension": ".py",
   "mimetype": "text/x-python",
   "name": "python",
   "nbconvert_exporter": "python",
   "pygments_lexer": "ipython3",
   "version": "3.10.8"
  }
 },
 "nbformat": 4,
 "nbformat_minor": 5
}
