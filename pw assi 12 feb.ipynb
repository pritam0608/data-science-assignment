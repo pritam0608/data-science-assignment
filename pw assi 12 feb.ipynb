{
 "cells": [
  {
   "cell_type": "markdown",
   "id": "ba0ad417",
   "metadata": {},
   "source": [
    "Q1. What is the exception in python? Write the difference between Exceptions and Syntax errors.\n",
    "\n",
    "Answer:\n",
    "\n",
    "* Exception:\n",
    "\n",
    "1. An exception is an event that occurs during the execution of a program that disrupts the normal flow of instructions. \n",
    "2. When an exceptional situation arises, an exception object is raised, and the normal flow of the program is interrupted. \n",
    "3. This allows the program to handle the exceptional situation and take appropriate actions\n",
    "4. we do exception handling using \"try and except\"block\n",
    "5. we also use else block ; this will run only if the try will succesfully run without error\n",
    "6. finally block is used to run ir-respective of execution ; whether try will run or not\n",
    "7. we also create our own couston exception handling.\n",
    "\n",
    "* Syntax error:\n",
    "\n",
    "1. An error in the code's structure or syntax that prevents the program from being parsed or executed. \n",
    "2. These errors are detected by the Python interpreter before runtime and must be fixed before the program can run.\n",
    "\n",
    "* Difference between :\n",
    "\n",
    "1. Timing: Exceptions are detected during runtime, while syntax errors are detected during the parsing phase.\n",
    "\n",
    "2. Cause: Exceptions are caused by runtime events, while syntax errors result from violations of the Python language rules.\n",
    "\n",
    "3. Handling: Exceptions can be caught and handled using try-except blocks, but syntax errors must be fixed before the program can run.\n",
    "\n",
    "\n",
    "\n",
    "\n",
    "\n",
    "\n"
   ]
  },
  {
   "cell_type": "code",
   "execution_count": 6,
   "id": "059a20f4",
   "metadata": {},
   "outputs": [
    {
     "name": "stdout",
     "output_type": "stream",
     "text": [
      "Exception caught: division by zero\n"
     ]
    }
   ],
   "source": [
    "# example of Exception\n",
    "\n",
    "try:\n",
    "    result = 10 / 0  \n",
    "except ZeroDivisionError as e:\n",
    "    print(f\"Exception caught: {e}\")"
   ]
  },
  {
   "cell_type": "code",
   "execution_count": 7,
   "id": "122dcfef",
   "metadata": {},
   "outputs": [
    {
     "ename": "SyntaxError",
     "evalue": "invalid syntax (2079330244.py, line 3)",
     "output_type": "error",
     "traceback": [
      "\u001b[1;36m  Input \u001b[1;32mIn [7]\u001b[1;36m\u001b[0m\n\u001b[1;33m    print.(\"Data Science\") # give syntax error\u001b[0m\n\u001b[1;37m          ^\u001b[0m\n\u001b[1;31mSyntaxError\u001b[0m\u001b[1;31m:\u001b[0m invalid syntax\n"
     ]
    }
   ],
   "source": [
    "# example of syntax error\n",
    "\n",
    "print.(\"Data Science\") # give syntax error "
   ]
  },
  {
   "cell_type": "code",
   "execution_count": null,
   "id": "d7f68632",
   "metadata": {},
   "outputs": [],
   "source": []
  },
  {
   "cell_type": "markdown",
   "id": "46dc55a5",
   "metadata": {},
   "source": [
    "Q2. What happen when exception is not handled? Explain with an example.\n",
    "\n",
    "Answer:\n",
    "\n",
    "1. When an exception is not handled, it leads to the termination of the program, and an error message is displayed, indicating the type of exception and a traceback of the code path where the exception occurred. \n",
    "2. This can make the program's behavior unpredictable and may expose sensitive information about the program's internal structure to the user.\n",
    "    "
   ]
  },
  {
   "cell_type": "code",
   "execution_count": 8,
   "id": "da7d93f1",
   "metadata": {},
   "outputs": [
    {
     "ename": "ZeroDivisionError",
     "evalue": "division by zero",
     "output_type": "error",
     "traceback": [
      "\u001b[1;31m---------------------------------------------------------------------------\u001b[0m",
      "\u001b[1;31mZeroDivisionError\u001b[0m                         Traceback (most recent call last)",
      "Input \u001b[1;32mIn [8]\u001b[0m, in \u001b[0;36m<cell line: 7>\u001b[1;34m()\u001b[0m\n\u001b[0;32m      4\u001b[0m     result \u001b[38;5;241m=\u001b[39m a \u001b[38;5;241m/\u001b[39m b\n\u001b[0;32m      5\u001b[0m     \u001b[38;5;28;01mreturn\u001b[39;00m result\n\u001b[1;32m----> 7\u001b[0m result \u001b[38;5;241m=\u001b[39m \u001b[43mdivide_numbers\u001b[49m\u001b[43m(\u001b[49m\u001b[38;5;241;43m10\u001b[39;49m\u001b[43m,\u001b[49m\u001b[43m \u001b[49m\u001b[38;5;241;43m0\u001b[39;49m\u001b[43m)\u001b[49m\u001b[38;5;66;03m# This will raise a ZeroDivisionError\u001b[39;00m\n\u001b[0;32m      8\u001b[0m \u001b[38;5;28mprint\u001b[39m(result)\n",
      "Input \u001b[1;32mIn [8]\u001b[0m, in \u001b[0;36mdivide_numbers\u001b[1;34m(a, b)\u001b[0m\n\u001b[0;32m      3\u001b[0m \u001b[38;5;28;01mdef\u001b[39;00m \u001b[38;5;21mdivide_numbers\u001b[39m(a, b):\n\u001b[1;32m----> 4\u001b[0m     result \u001b[38;5;241m=\u001b[39m \u001b[43ma\u001b[49m\u001b[43m \u001b[49m\u001b[38;5;241;43m/\u001b[39;49m\u001b[43m \u001b[49m\u001b[43mb\u001b[49m\n\u001b[0;32m      5\u001b[0m     \u001b[38;5;28;01mreturn\u001b[39;00m result\n",
      "\u001b[1;31mZeroDivisionError\u001b[0m: division by zero"
     ]
    }
   ],
   "source": [
    "# Example Without Exception Handling\n",
    "\n",
    "def divide_numbers(a, b):\n",
    "    result = a / b\n",
    "    return result\n",
    "\n",
    "result = divide_numbers(10, 0)# This will raise a ZeroDivisionError\n",
    "print(result)"
   ]
  },
  {
   "cell_type": "code",
   "execution_count": 12,
   "id": "5547ec03",
   "metadata": {},
   "outputs": [
    {
     "name": "stdout",
     "output_type": "stream",
     "text": [
      "Error: division by zero\n",
      "Cannot divide by zero.\n"
     ]
    }
   ],
   "source": [
    "# Example With Exception Handling\n",
    "\n",
    "def divide_numbers(a, b):\n",
    "    try:\n",
    "        result = a / b\n",
    "        return result\n",
    "    except ZeroDivisionError as e:\n",
    "        print(f\"Error: {e}\")\n",
    "        return None\n",
    "\n",
    "result = divide_numbers(10, 0)\n",
    "if result is not None:\n",
    "    print(result)\n",
    "else:\n",
    "    print(\"Cannot divide by zero.\")"
   ]
  },
  {
   "cell_type": "code",
   "execution_count": null,
   "id": "e1e01580",
   "metadata": {},
   "outputs": [],
   "source": []
  },
  {
   "cell_type": "markdown",
   "id": "1382dd51",
   "metadata": {},
   "source": [
    "Q3. Which python statement are used to catch and handle exceptions? Explain with an example.\n",
    "\n",
    "Answer:\n",
    "   \n",
    "1. In Python, the \"try\" and \"except\" statements are used to catch and handle exceptions.\n",
    "2. The try block contains the code that may raise an exception.\n",
    "3. If an exception occurs within the try block, the code within the corresponding except block is executed.\n",
    "4. The except block specifies the type of exception it can catch. It can catch a specific exception type (e.g., ZeroDivisionError, FileNotFoundError)\n",
    "5. no exception occurs in the try block, the except block is skipped\n"
   ]
  },
  {
   "cell_type": "code",
   "execution_count": 15,
   "id": "ad23af36",
   "metadata": {},
   "outputs": [],
   "source": [
    "# example\n",
    "\n",
    "def divide_numbers(a, b): # creating function\n",
    "    try:                 \n",
    "        result = a / b\n",
    "        return result\n",
    "    except ZeroDivisionError as e: \n",
    "        print(f\"Error: {e}\")\n",
    "        return None"
   ]
  },
  {
   "cell_type": "code",
   "execution_count": 16,
   "id": "ba0edfa0",
   "metadata": {},
   "outputs": [
    {
     "name": "stdout",
     "output_type": "stream",
     "text": [
      "Result: 5.0\n"
     ]
    }
   ],
   "source": [
    "result = divide_numbers(10, 2)\n",
    "if result is not None:\n",
    "    print(f\"Result: {result}\")\n",
    "else:\n",
    "    print(\"Error occurred during division.\")\n",
    "    \n",
    "#in this try block succesfuly run and give result"
   ]
  },
  {
   "cell_type": "code",
   "execution_count": 18,
   "id": "98b14159",
   "metadata": {},
   "outputs": [
    {
     "name": "stdout",
     "output_type": "stream",
     "text": [
      "Error: division by zero\n",
      "Error occurred during division.\n"
     ]
    }
   ],
   "source": [
    "result = divide_numbers(10, 0)\n",
    "if result is not None:\n",
    "    print(f\"Result: {result}\")\n",
    "else:\n",
    "    print(\"Error occurred during division.\")\n",
    "    \n",
    "# in this error raise during try block if its not executed properly and it catch by except block"
   ]
  },
  {
   "cell_type": "code",
   "execution_count": null,
   "id": "61562df3",
   "metadata": {},
   "outputs": [],
   "source": []
  },
  {
   "cell_type": "markdown",
   "id": "becaea62",
   "metadata": {},
   "source": [
    "Q4. Explain with an example:\n",
    "    \n",
    "    a. try and else\n",
    "    b. finally\n",
    "    c. raise\n",
    "    \n",
    "    \n",
    "Answer :\n",
    "    \n",
    "a. try and else\n",
    "1. In Python, the else block in a try statement is executed if no exceptions are raised in the associated try block. \n",
    "2. It provides a way to specify a block of code to run when no exceptions occur.\n",
    "    \n",
    "b. finally\n",
    "1. The finally block in a try statement is used to define a block of code that will be executed no matter what, whether an exception occurs or not. \n",
    "2. It's often used for cleanup operations.\n",
    "\n",
    "c. raise\n",
    "1. The raise statement is used to raise an exception manually. \n",
    "2. This can be useful when you want to indicate that a certain condition is not met.\n"
   ]
  },
  {
   "cell_type": "code",
   "execution_count": 1,
   "id": "cf653b74",
   "metadata": {},
   "outputs": [],
   "source": [
    "# example \n",
    "# a. try and else\n",
    "\n",
    "def divide_numbers(a, b):\n",
    "    try:\n",
    "        result = a / b\n",
    "    except ZeroDivisionError as e:\n",
    "        print(f\"Error: {e}\")\n",
    "    else:\n",
    "        print(f\"Result: {result}\")"
   ]
  },
  {
   "cell_type": "code",
   "execution_count": 2,
   "id": "39df4b18",
   "metadata": {},
   "outputs": [
    {
     "name": "stdout",
     "output_type": "stream",
     "text": [
      "Result: 5.0\n"
     ]
    }
   ],
   "source": [
    "divide_numbers(10, 2)   # No exception, so the else block will be executed"
   ]
  },
  {
   "cell_type": "code",
   "execution_count": 3,
   "id": "180de404",
   "metadata": {},
   "outputs": [
    {
     "name": "stdout",
     "output_type": "stream",
     "text": [
      "Error: division by zero\n"
     ]
    }
   ],
   "source": [
    "divide_numbers(10, 0)   # Exception will be caught in the except block"
   ]
  },
  {
   "cell_type": "code",
   "execution_count": 4,
   "id": "95446d85",
   "metadata": {},
   "outputs": [],
   "source": [
    "# example \n",
    "# b. finally\n",
    "\n",
    "def open_and_read_file(filename):\n",
    "    try:\n",
    "        file = open(filename, 'r')\n",
    "        content = file.read()\n",
    "        print(f\"File content: {content}\")\n",
    "    except FileNotFoundError:\n",
    "        print(f\"File not found: {filename}\")\n",
    "    finally:\n",
    "        if 'file' in locals():\n",
    "            file.close()\n",
    "            print(\"File closed.\")  "
   ]
  },
  {
   "cell_type": "code",
   "execution_count": 5,
   "id": "859700bb",
   "metadata": {},
   "outputs": [
    {
     "name": "stdout",
     "output_type": "stream",
     "text": [
      "File not found: example.txt\n"
     ]
    }
   ],
   "source": [
    "open_and_read_file('example.txt') "
   ]
  },
  {
   "cell_type": "code",
   "execution_count": 6,
   "id": "2ada1ba6",
   "metadata": {},
   "outputs": [
    {
     "name": "stdout",
     "output_type": "stream",
     "text": [
      "File not found: nonexistent.txt\n"
     ]
    }
   ],
   "source": [
    "open_and_read_file('nonexistent.txt')"
   ]
  },
  {
   "cell_type": "code",
   "execution_count": 7,
   "id": "d4ee98b1",
   "metadata": {},
   "outputs": [
    {
     "name": "stdout",
     "output_type": "stream",
     "text": [
      "Error: Age cannot be negative.\n"
     ]
    }
   ],
   "source": [
    "# Example\n",
    "# c. raise\n",
    "\n",
    "\n",
    "def validate_age(age):\n",
    "    if age < 0:\n",
    "        raise ValueError(\"Age cannot be negative.\")\n",
    "    return f\"Valid age: {age}\"\n",
    "\n",
    "try:\n",
    "    result = validate_age(-5)\n",
    "    print(result)\n",
    "except ValueError as e:\n",
    "    print(f\"Error: {e}\")\n"
   ]
  },
  {
   "cell_type": "code",
   "execution_count": null,
   "id": "1475a3ae",
   "metadata": {},
   "outputs": [],
   "source": []
  },
  {
   "cell_type": "markdown",
   "id": "de1dc774",
   "metadata": {},
   "source": [
    "Q 5 . What are custom Exceptions in python? Why do we need custom Exceptions? Explain with an example\n",
    "\n",
    "Answer:\n",
    "\n",
    "1. Custom exceptions in Python are user-defined exception classes that extend the built-in Exception class or its subclasses.\n",
    "2. By creating custom exceptions, you can tailor the exception hierarchy to better fit the needs of your specific application. \n",
    "3. This allows you to handle different types of errors in a more organized and meaningful way.\n",
    "\n",
    "* We need custom Exceptions because:\n",
    "\n",
    "1. Custom exceptions provide a way to express the specific errors that may occur in your code, making it easier for developers to understand the nature of the problem\n",
    "2. By defining custom exceptions, you can encapsulate error-handling logic within the exception classes. This promotes modularity and reusability\n",
    "3. When the requirements change, or new error conditions arise, having custom exceptions makes it easier to adapt your code to handle these changes without affecting the entire error-handling logic.\n"
   ]
  },
  {
   "cell_type": "code",
   "execution_count": 17,
   "id": "c091a005",
   "metadata": {},
   "outputs": [],
   "source": [
    "# example \n",
    "\n",
    "class validateage(Exception): \n",
    "    \n",
    "    def __init__(self, msg):\n",
    "        self.msg = msg\n",
    "        \n",
    "def valid_age(age):\n",
    "    if age < 0 :\n",
    "        raise validateage(\"error: enter age is negative \") \n",
    "    elif age > 200:\n",
    "        raise validateage(\"error : enter age is very high \")\n",
    "    else:\n",
    "        print(\"age is valid\")\n"
   ]
  },
  {
   "cell_type": "code",
   "execution_count": 18,
   "id": "e5cb147c",
   "metadata": {},
   "outputs": [
    {
     "name": "stdout",
     "output_type": "stream",
     "text": [
      "enter your age -24\n",
      "error: enter age is negative \n"
     ]
    }
   ],
   "source": [
    "try:\n",
    "    age = int(input(\"enter your age \"))\n",
    "    valid_age(age)\n",
    "except validateage as e:\n",
    "    print(e)\n",
    "    "
   ]
  },
  {
   "cell_type": "code",
   "execution_count": null,
   "id": "4ffbd083",
   "metadata": {},
   "outputs": [],
   "source": []
  },
  {
   "cell_type": "markdown",
   "id": "e85b4437",
   "metadata": {},
   "source": [
    "Q6 Create a custom exception class. Use this class to handle an exception.\n",
    "\n",
    "Answer:"
   ]
  },
  {
   "cell_type": "code",
   "execution_count": 19,
   "id": "b380d572",
   "metadata": {},
   "outputs": [],
   "source": [
    "class validateage(Exception): \n",
    "    \n",
    "    def __init__(self, msg):\n",
    "        self.msg = msg"
   ]
  },
  {
   "cell_type": "code",
   "execution_count": 20,
   "id": "98522754",
   "metadata": {},
   "outputs": [],
   "source": [
    "def valid_age(age):\n",
    "    if age < 0 :\n",
    "        raise validateage(\"error: enter age is negative \") \n",
    "    elif age > 200:\n",
    "        raise validateage(\"error : enter age is very high \")\n",
    "    else:\n",
    "        print(\"age is valid\")"
   ]
  },
  {
   "cell_type": "code",
   "execution_count": 21,
   "id": "623cab6e",
   "metadata": {},
   "outputs": [
    {
     "name": "stdout",
     "output_type": "stream",
     "text": [
      "enter your age 344\n",
      "error : enter age is very high \n"
     ]
    }
   ],
   "source": [
    "try:\n",
    "    age = int(input(\"enter your age \"))\n",
    "    valid_age(age)\n",
    "except validateage as e:\n",
    "    print(e)"
   ]
  },
  {
   "cell_type": "code",
   "execution_count": null,
   "id": "dbd50e13",
   "metadata": {},
   "outputs": [],
   "source": []
  }
 ],
 "metadata": {
  "kernelspec": {
   "display_name": "Python 3 (ipykernel)",
   "language": "python",
   "name": "python3"
  },
  "language_info": {
   "codemirror_mode": {
    "name": "ipython",
    "version": 3
   },
   "file_extension": ".py",
   "mimetype": "text/x-python",
   "name": "python",
   "nbconvert_exporter": "python",
   "pygments_lexer": "ipython3",
   "version": "3.9.12"
  }
 },
 "nbformat": 4,
 "nbformat_minor": 5
}
