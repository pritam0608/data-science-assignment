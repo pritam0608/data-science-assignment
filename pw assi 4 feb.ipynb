{
 "cells": [
  {
   "cell_type": "markdown",
   "id": "1fa5a8b7-70bb-408b-a22f-a8bd7f3e1a3d",
   "metadata": {},
   "source": [
    "Q1. Create a python program to sort the given list of tuples based on integer value using a\n",
    "lambda function.\n",
    "[('Sachin Tendulkar', 34357), ('Ricky Ponting', 27483), ('Jack Kallis', 25534), ('Virat Kohli', 24936)]"
   ]
  },
  {
   "cell_type": "code",
   "execution_count": 55,
   "id": "0323ec2d-ce12-4681-9f11-c02deb3e74fb",
   "metadata": {},
   "outputs": [],
   "source": [
    "l = [('Sachin Tendulkar', 34357), ('Ricky Ponting', 27483), ('Jack Kallis', 25534), ('Virat Kohli', 24936)]"
   ]
  },
  {
   "cell_type": "code",
   "execution_count": 46,
   "id": "bb9ae195-3462-443d-85bf-832a1ec0a58d",
   "metadata": {},
   "outputs": [],
   "source": [
    "num = lambda x: x[1]"
   ]
  },
  {
   "cell_type": "code",
   "execution_count": 47,
   "id": "c42cd97d-b5a2-41ff-93d9-5aa683cdc776",
   "metadata": {},
   "outputs": [],
   "source": [
    "sort = sorted(l, key = num)"
   ]
  },
  {
   "cell_type": "code",
   "execution_count": 48,
   "id": "46e644eb-a3cd-48a3-a5c2-b2df7002961d",
   "metadata": {},
   "outputs": [
    {
     "name": "stdout",
     "output_type": "stream",
     "text": [
      "('Virat Kohli', 24936)\n",
      "('Jack Kallis', 25534)\n",
      "('Ricky Ponting', 27483)\n",
      "('Sachin Tendulkar', 34357)\n"
     ]
    }
   ],
   "source": [
    "for i in sort:\n",
    "    print(i)"
   ]
  },
  {
   "cell_type": "code",
   "execution_count": 56,
   "id": "287a88a2-5f93-4328-ad3f-0f1d43f10cc7",
   "metadata": {},
   "outputs": [],
   "source": []
  },
  {
   "cell_type": "markdown",
   "id": "bd7be971-0fae-4c74-b261-60ca2ec73b5b",
   "metadata": {},
   "source": [
    "Q2. Write a Python Program to find the squares of all the numbers in the given list of integers using\n",
    "lambda and map functions.\n",
    "[1, 2, 3, 4, 5, 6, 7, 8, 9, 10]"
   ]
  },
  {
   "cell_type": "code",
   "execution_count": 86,
   "id": "c7f580c0-52c6-4741-9e4b-f7eec5add8eb",
   "metadata": {},
   "outputs": [],
   "source": [
    "l = [1, 2, 3, 4, 5, 6, 7, 8, 9, 10]"
   ]
  },
  {
   "cell_type": "code",
   "execution_count": 89,
   "id": "d94fc1f1-4ccf-48e4-b402-ffccecc75ed0",
   "metadata": {},
   "outputs": [
    {
     "data": {
      "text/plain": [
       "[1, 4, 9, 16, 25, 36, 49, 64, 81, 100]"
      ]
     },
     "execution_count": 89,
     "metadata": {},
     "output_type": "execute_result"
    }
   ],
   "source": [
    "list(map(lambda x : x**2,l))"
   ]
  },
  {
   "cell_type": "code",
   "execution_count": null,
   "id": "4630ff29-8ba3-4ff5-9bb4-84927f49eaed",
   "metadata": {},
   "outputs": [],
   "source": []
  },
  {
   "cell_type": "markdown",
   "id": "e7bb4f74-b2b5-432a-9f4f-c1c8d5e1d852",
   "metadata": {},
   "source": [
    "Q3. Write a python program to convert the given list of integers into a tuple of strings. Use map and\n",
    "lambda functions\n",
    "Given String: [1, 2, 3, 4, 5, 6, 7, 8, 9, 10]\n",
    "Expected output: ('1', '2', '3', '4', '5', '6', '7', '8', '9', '10')"
   ]
  },
  {
   "cell_type": "code",
   "execution_count": 68,
   "id": "71a67b56-6a60-42f7-8376-f944a084fa0d",
   "metadata": {},
   "outputs": [],
   "source": [
    "string = [1, 2, 3, 4, 5, 6, 7, 8, 9, 10]"
   ]
  },
  {
   "cell_type": "code",
   "execution_count": 69,
   "id": "5865becc-695b-4079-a747-cffbc20c1bcf",
   "metadata": {},
   "outputs": [
    {
     "data": {
      "text/plain": [
       "('1', '2', '3', '4', '5', '6', '7', '8', '9', '10')"
      ]
     },
     "execution_count": 69,
     "metadata": {},
     "output_type": "execute_result"
    }
   ],
   "source": [
    "tuple(map(lambda x : str(x) ,string))"
   ]
  },
  {
   "cell_type": "code",
   "execution_count": null,
   "id": "a8f9f34b-ea5b-4856-a91e-bd84f00cfb93",
   "metadata": {},
   "outputs": [],
   "source": []
  },
  {
   "cell_type": "markdown",
   "id": "5e419ce3-5f7e-4ad7-900a-72638288ba69",
   "metadata": {},
   "source": [
    "Q4. Write a python program using reduce function to compute the product of a list containing numbers\n",
    "from 1 to 25."
   ]
  },
  {
   "cell_type": "code",
   "execution_count": 70,
   "id": "83d6db5f-b267-4c50-9722-208b4004decc",
   "metadata": {},
   "outputs": [],
   "source": [
    "from functools import reduce"
   ]
  },
  {
   "cell_type": "code",
   "execution_count": 90,
   "id": "b1a3b5fa-5ffb-4112-823e-3cee99f8e64a",
   "metadata": {},
   "outputs": [],
   "source": [
    "l = list(range(1,26))"
   ]
  },
  {
   "cell_type": "code",
   "execution_count": 92,
   "id": "3ce4b942-b51b-42d2-beb8-c976388c8bad",
   "metadata": {},
   "outputs": [
    {
     "data": {
      "text/plain": [
       "[1,\n",
       " 2,\n",
       " 3,\n",
       " 4,\n",
       " 5,\n",
       " 6,\n",
       " 7,\n",
       " 8,\n",
       " 9,\n",
       " 10,\n",
       " 11,\n",
       " 12,\n",
       " 13,\n",
       " 14,\n",
       " 15,\n",
       " 16,\n",
       " 17,\n",
       " 18,\n",
       " 19,\n",
       " 20,\n",
       " 21,\n",
       " 22,\n",
       " 23,\n",
       " 24,\n",
       " 25]"
      ]
     },
     "execution_count": 92,
     "metadata": {},
     "output_type": "execute_result"
    }
   ],
   "source": [
    "l"
   ]
  },
  {
   "cell_type": "code",
   "execution_count": 91,
   "id": "f551f6f5-b30e-49e2-aa08-4feafa54e9b8",
   "metadata": {},
   "outputs": [
    {
     "data": {
      "text/plain": [
       "15511210043330985984000000"
      ]
     },
     "execution_count": 91,
     "metadata": {},
     "output_type": "execute_result"
    }
   ],
   "source": [
    "reduce(lambda x,y :x*y , l)"
   ]
  },
  {
   "cell_type": "code",
   "execution_count": 88,
   "id": "f4d87eef-e45d-4975-9d1f-33d26c28d307",
   "metadata": {},
   "outputs": [],
   "source": []
  },
  {
   "cell_type": "markdown",
   "id": "d0761081-20b0-40db-b0da-bfe9a9ee81cd",
   "metadata": {},
   "source": [
    "Q5. Write a python program to filter the numbers in a given list that are divisible by 2 and 3 using the\n",
    "filter function.\n",
    "[2, 3, 6, 9, 27, 60, 90, 120, 55, 46]"
   ]
  },
  {
   "cell_type": "code",
   "execution_count": 93,
   "id": "32e33ddb-80ce-41e8-92eb-f8f72a7b9857",
   "metadata": {},
   "outputs": [],
   "source": [
    "l = [2, 3, 6, 9, 27, 60, 90, 120, 55, 46]"
   ]
  },
  {
   "cell_type": "code",
   "execution_count": 95,
   "id": "34b1fed0-39ce-446e-94f5-267be02c1183",
   "metadata": {},
   "outputs": [
    {
     "data": {
      "text/plain": [
       "[6, 60, 90, 120]"
      ]
     },
     "execution_count": 95,
     "metadata": {},
     "output_type": "execute_result"
    }
   ],
   "source": [
    "list(filter(lambda x: x % 2==0 and x % 3 == 0 , l))"
   ]
  },
  {
   "cell_type": "code",
   "execution_count": null,
   "id": "9e1d6ae9-0fe7-406e-8722-6954ba650c0e",
   "metadata": {},
   "outputs": [],
   "source": []
  },
  {
   "cell_type": "markdown",
   "id": "0f39c09b-12b3-42e5-b729-e39033e385a0",
   "metadata": {},
   "source": [
    "Q6. Write a python program to find palindromes in the given list of strings using lambda and filter\n",
    "function.\n",
    "['python', 'php', 'aba', 'radar', 'level']"
   ]
  },
  {
   "cell_type": "code",
   "execution_count": 96,
   "id": "88f62e18-2a5d-40d4-8f05-600a3922c323",
   "metadata": {},
   "outputs": [],
   "source": [
    "l= ['python', 'php', 'aba', 'radar', 'level']"
   ]
  },
  {
   "cell_type": "code",
   "execution_count": 97,
   "id": "d9d03026-5376-4cd9-89bd-9c899af44f2b",
   "metadata": {},
   "outputs": [
    {
     "data": {
      "text/plain": [
       "['php', 'aba', 'radar', 'level']"
      ]
     },
     "execution_count": 97,
     "metadata": {},
     "output_type": "execute_result"
    }
   ],
   "source": [
    "list(filter(lambda x: x == x[::-1], l )) "
   ]
  },
  {
   "cell_type": "code",
   "execution_count": null,
   "id": "d6864e1b-2b69-413e-8627-8b4a4a743218",
   "metadata": {},
   "outputs": [],
   "source": []
  }
 ],
 "metadata": {
  "kernelspec": {
   "display_name": "Python 3 (ipykernel)",
   "language": "python",
   "name": "python3"
  },
  "language_info": {
   "codemirror_mode": {
    "name": "ipython",
    "version": 3
   },
   "file_extension": ".py",
   "mimetype": "text/x-python",
   "name": "python",
   "nbconvert_exporter": "python",
   "pygments_lexer": "ipython3",
   "version": "3.10.8"
  }
 },
 "nbformat": 4,
 "nbformat_minor": 5
}
