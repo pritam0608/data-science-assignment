{
 "cells": [
  {
   "cell_type": "markdown",
   "id": "5908125a",
   "metadata": {},
   "source": [
    "Q1. Who developes python Programming language?\n",
    "\n",
    "Answer: \n",
    "\n",
    "1. Python was created by Guido van Rossum.\n",
    "2. It first released on February 20, 1991.\n",
    "\n"
   ]
  },
  {
   "cell_type": "code",
   "execution_count": null,
   "id": "06d73839",
   "metadata": {},
   "outputs": [],
   "source": []
  },
  {
   "cell_type": "markdown",
   "id": "cc3b354f",
   "metadata": {},
   "source": [
    "Q2. Which type of programming does Python support ?\n",
    "\n",
    "Answer :\n",
    "    \n",
    "1. Python is an iterpreted programming language.\n",
    "2. Its support object priented programming ,Structure and functional proramming.\n",
    "    \n",
    "\n",
    "    \n",
    "    \n",
    "    \n",
    "    "
   ]
  },
  {
   "cell_type": "code",
   "execution_count": null,
   "id": "72339088",
   "metadata": {},
   "outputs": [],
   "source": []
  },
  {
   "cell_type": "markdown",
   "id": "4fc671a6",
   "metadata": {},
   "source": [
    "Q3. Is Python case sensitive when dealing with identifiers?\n",
    "\n",
    "Answer:\n",
    "\n",
    "1. Yes, Python is case sensitive when dealing with identifiers. \n",
    "2. This means that variable , function names , class names and other identifiers must be spelled with the correct letters with combination of uppercase and lowercase.\n",
    "3. Example : 'var' and 'Var' will treated as two different variable. \n"
   ]
  },
  {
   "cell_type": "code",
   "execution_count": null,
   "id": "3125d0be",
   "metadata": {},
   "outputs": [],
   "source": []
  },
  {
   "cell_type": "markdown",
   "id": "02e99f97",
   "metadata": {},
   "source": [
    "Q4. what is the correct extension of python file?\n",
    "\n",
    "Answer: The correct extension of python files is \".py\" ."
   ]
  },
  {
   "cell_type": "code",
   "execution_count": null,
   "id": "5bd8532c",
   "metadata": {},
   "outputs": [],
   "source": []
  },
  {
   "cell_type": "markdown",
   "id": "19d995a8",
   "metadata": {},
   "source": [
    "Q5. Is python code compiled or interpretd ?\n",
    "\n",
    "Answer: Python is an interpreted Language, means the code of a program is converted into bytecode that is then executed by the Python virtual Machine."
   ]
  },
  {
   "cell_type": "code",
   "execution_count": null,
   "id": "34cf8170",
   "metadata": {},
   "outputs": [],
   "source": []
  },
  {
   "cell_type": "markdown",
   "id": "ea5d34c1",
   "metadata": {},
   "source": [
    "Q6. Name a few blocks of code used to define in python language ?\n",
    "\n",
    "Answer: \n",
    "\n",
    "1. Python program is constructed from code blocks.\n",
    "2. Python uses identation to expree the block structure of a Program.\n",
    "3. Blocks of code are typically associated with :\n",
    "    control flow statements, \n",
    "    function,\n",
    "    class definitions, \n",
    "    and other structural elements."
   ]
  },
  {
   "cell_type": "code",
   "execution_count": null,
   "id": "56710887",
   "metadata": {},
   "outputs": [],
   "source": [
    "#example: \n",
    "if condition:\n",
    "    # Code block for the \"if\" statement\n",
    "    print(\"Condition is True\")\n",
    "elif another_condition:\n",
    "    # Code block for the \"elif\" statement\n",
    "    print(\"Another condition is True\")\n",
    "else:\n",
    "    # Code block for the \"else\" statement\n",
    "    print(\"Neither condition is True\")\n"
   ]
  },
  {
   "cell_type": "markdown",
   "id": "fcc73fcd",
   "metadata": {},
   "source": []
  },
  {
   "cell_type": "markdown",
   "id": "f3fe4161",
   "metadata": {},
   "source": [
    "Q7. State a character used to give single-line comments in Python ?\n",
    "\n",
    "Answer:\n",
    "    \n",
    "Hash Character # is used to give single-line comments in Python."
   ]
  },
  {
   "cell_type": "code",
   "execution_count": null,
   "id": "d85a161a",
   "metadata": {},
   "outputs": [],
   "source": []
  },
  {
   "cell_type": "markdown",
   "id": "7ee3f06a",
   "metadata": {},
   "source": [
    "Q8.Mention function which can help us to find the version of python that we are currently working on ?\n",
    "\n",
    "Answer:\n",
    "    \n",
    "The function \"sys.version\" help us to find the version of python that we are currently working after \"importing sys\""
   ]
  },
  {
   "cell_type": "code",
   "execution_count": 19,
   "id": "0c192931",
   "metadata": {},
   "outputs": [
    {
     "name": "stdout",
     "output_type": "stream",
     "text": [
      "3.9.12 (main, Apr  4 2022, 05:22:27) [MSC v.1916 64 bit (AMD64)]\n"
     ]
    }
   ],
   "source": [
    "import sys\n",
    "\n",
    "print(sys.version)"
   ]
  },
  {
   "cell_type": "code",
   "execution_count": null,
   "id": "24f034cf",
   "metadata": {},
   "outputs": [],
   "source": []
  },
  {
   "cell_type": "markdown",
   "id": "51c87b6d",
   "metadata": {},
   "source": [
    "Q9. Python supports the creation of anonymous function at runtime, using construct called.\n",
    "\n",
    "Answer:\n",
    "\n",
    "Python supports the creation of anonymous function at runtime, using construct called \"lambda\".\n"
   ]
  },
  {
   "cell_type": "code",
   "execution_count": 29,
   "id": "bcd0ceb2",
   "metadata": {},
   "outputs": [
    {
     "name": "stdout",
     "output_type": "stream",
     "text": [
      "[1, 4, 9, 16]\n"
     ]
    }
   ],
   "source": [
    "# example \n",
    "\n",
    "l = [1,2,3,4]\n",
    "\n",
    "l1 = list(map(lambda x: x**2 , l))\n",
    "\n",
    "print(l1)"
   ]
  },
  {
   "cell_type": "code",
   "execution_count": null,
   "id": "cfac8504",
   "metadata": {},
   "outputs": [],
   "source": []
  },
  {
   "cell_type": "markdown",
   "id": "6e4e06d9",
   "metadata": {},
   "source": [
    "Q10. What does pip stand for python?\n",
    "\n",
    "Answer:\n",
    "    \n",
    "1. pip is an acronym that stands for\" pip installs Packages\"\n",
    "2. pip is the package installer for python and it used to install and manage the python packages."
   ]
  },
  {
   "cell_type": "code",
   "execution_count": null,
   "id": "562da73f",
   "metadata": {},
   "outputs": [],
   "source": []
  },
  {
   "cell_type": "markdown",
   "id": "e2a40b27",
   "metadata": {},
   "source": [
    "Q11. Mention a few built-in functions in python?\n",
    "\n",
    "Answer: \n",
    "\n",
    "There are variety of built-in function in python.\n",
    "\n",
    "1. print( ) function.\n",
    "2. type( ) function.\n",
    "3. input( ) function.\n",
    "4. abs( ) function.\n",
    "5. pow( ) function.\n",
    "6. dir( ) function.\n",
    "7. sorted( ) function.\n",
    "\n",
    "....And many more"
   ]
  },
  {
   "cell_type": "code",
   "execution_count": 30,
   "id": "a1adab90",
   "metadata": {},
   "outputs": [
    {
     "name": "stdout",
     "output_type": "stream",
     "text": [
      "Hello, world!\n"
     ]
    }
   ],
   "source": [
    "# example\n",
    "\n",
    "print(\"Hello, world!\")\n"
   ]
  },
  {
   "cell_type": "code",
   "execution_count": 31,
   "id": "42cbdf9d",
   "metadata": {},
   "outputs": [
    {
     "name": "stdout",
     "output_type": "stream",
     "text": [
      "5\n"
     ]
    }
   ],
   "source": [
    "my_list = [1, 2, 3, 4, 5]\n",
    "print(len(my_list)) \n"
   ]
  },
  {
   "cell_type": "code",
   "execution_count": null,
   "id": "686946fc",
   "metadata": {},
   "outputs": [],
   "source": []
  },
  {
   "cell_type": "markdown",
   "id": "0014fc74",
   "metadata": {},
   "source": [
    "Q12. what is the maximum possible length of an identifier in Python?\n",
    "\n",
    "Answer:\n",
    "    \n",
    "An identifier can have maximum length of 79 characters in python."
   ]
  },
  {
   "cell_type": "code",
   "execution_count": null,
   "id": "7fff8cfb",
   "metadata": {},
   "outputs": [],
   "source": []
  },
  {
   "cell_type": "markdown",
   "id": "253acb02",
   "metadata": {},
   "source": [
    "Q13. What are the benefits of using Python?\n",
    "\n",
    "Answer: \n",
    "\n",
    "Python is a popular and versatile programming language.\n",
    "\n",
    "Benefits of using are:\n",
    "    \n",
    "    1. Readability and Simplicity\n",
    "    2. Extensive Standard Library\n",
    "    3. Versatility and Cross-Platform Compatibility\n",
    "    4. Diverse Libraries and Frameworks\n",
    "    5. Integration Capabilities\n",
    "    6. Scalability\n",
    "    7. Open Source and Free\n",
    "    "
   ]
  },
  {
   "cell_type": "code",
   "execution_count": null,
   "id": "02903dff",
   "metadata": {},
   "outputs": [],
   "source": []
  },
  {
   "cell_type": "markdown",
   "id": "62d3e0e0",
   "metadata": {},
   "source": [
    "Q14. How is memory managed in Python?\n",
    "\n",
    "Answer:\n",
    "    \n",
    "1. Memory management in Python is handled by the Python memory manager, which is responsible for allocating and deallocating memory to efficiently use the system's resources\n",
    "2.  Python uses a combination of private heaps and a garbage collector to manage memory.\n",
    "3.  some key aspects of memory management in Python are:\n",
    "    \n",
    "    1. Private Heaps\n",
    "    2. Memory Allocation\n",
    "    3. Reference Counting\n",
    "    4. Automatic Memory Management\n",
    "    5. Memory Optimizations\n",
    "    "
   ]
  },
  {
   "cell_type": "code",
   "execution_count": null,
   "id": "5f068322",
   "metadata": {},
   "outputs": [],
   "source": []
  },
  {
   "cell_type": "markdown",
   "id": "3133e14b",
   "metadata": {},
   "source": [
    "Q15. How to install Python on windows and set path variables?\n",
    "\n",
    "Answer:\n",
    "\n",
    "* install Python on Windows -\n",
    "\n",
    "1.  Download Python: Visit the official Python website: Python Downloads.\n",
    "2.  Run the Installer\n",
    "3.  Install Python: Click \"Install Now\" to start the installation process.\n",
    "4.  Verify the Installation\n",
    "\n",
    "* Set path -\n",
    "\n",
    "Set Environment Variables (if needed):\n",
    "1.  If the Python interpreter is not recognized in the command prompt, you may need to set the PATH variable manually.\n",
    "2.  Right-click on \"This PC\" or \"Computer\" on your desktop or in File Explorer and select \"Properties.\"\n",
    "3.  Click on \"Advanced system settings\" on the left.\n",
    "4.  Click the \"Environment Variables...\" button.\n",
    "5.  In the \"System variables\" section, find and select the \"Path\" variable, then click \"Edit...\"\n",
    "6.  Click \"New\" and add the path to your Python installation directory. \n"
   ]
  },
  {
   "cell_type": "code",
   "execution_count": null,
   "id": "3b0787b4",
   "metadata": {},
   "outputs": [],
   "source": []
  },
  {
   "cell_type": "markdown",
   "id": "3056936b",
   "metadata": {},
   "source": [
    "Q16. Is identation required in Python?\n",
    "\n",
    "Answer:\n",
    "\n",
    "1. Yes, indentation is required in Python.\n",
    "2. Unlike many other programming languages that use curly braces or keywords to define code blocks, Python uses indentation to indicate the structure and scope of the code. \n",
    "3. Indentation is a fundamental part of Python's syntax and is used to group statements within control structures such as loops, conditionals, functions, and classes."
   ]
  },
  {
   "cell_type": "code",
   "execution_count": null,
   "id": "ba261cbf",
   "metadata": {},
   "outputs": [],
   "source": []
  }
 ],
 "metadata": {
  "kernelspec": {
   "display_name": "Python 3 (ipykernel)",
   "language": "python",
   "name": "python3"
  },
  "language_info": {
   "codemirror_mode": {
    "name": "ipython",
    "version": 3
   },
   "file_extension": ".py",
   "mimetype": "text/x-python",
   "name": "python",
   "nbconvert_exporter": "python",
   "pygments_lexer": "ipython3",
   "version": "3.9.12"
  }
 },
 "nbformat": 4,
 "nbformat_minor": 5
}
