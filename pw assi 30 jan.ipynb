{
 "cells": [
  {
   "cell_type": "markdown",
   "id": "f6ac5a77-77e9-4429-8261-3939b8c46152",
   "metadata": {},
   "source": [
    "Q1. Write a program to accept percentage from the user and display the grade according to the following criteria:\n",
    "    \n",
    "    marks > 90 .... grade A\n",
    "    >80 and <=90 .... B\n",
    "    >=60 and <=80 ... C\n",
    "    below 60 ........ D"
   ]
  },
  {
   "cell_type": "code",
   "execution_count": 24,
   "id": "3b310301-773f-49e2-9937-79808794ede7",
   "metadata": {},
   "outputs": [
    {
     "name": "stdin",
     "output_type": "stream",
     "text": [
      "Enter the percentage:  94\n"
     ]
    },
    {
     "name": "stdout",
     "output_type": "stream",
     "text": [
      "Grade: A\n"
     ]
    }
   ],
   "source": [
    "percentage = float(input(\"Enter the percentage: \"))\n",
    "\n",
    "if percentage > 90:\n",
    "    grade = 'A'\n",
    "elif 80 < percentage <= 90:\n",
    "    grade = 'B'\n",
    "elif 60 <= percentage <= 80:\n",
    "    grade = 'C'\n",
    "else:\n",
    "    grade = 'D'\n",
    "\n",
    "print(\"Grade:\",grade)\n"
   ]
  },
  {
   "cell_type": "code",
   "execution_count": null,
   "id": "317db6f3-bea6-4749-b82b-421e22aca2c6",
   "metadata": {},
   "outputs": [],
   "source": []
  },
  {
   "cell_type": "markdown",
   "id": "23d02900-f6a4-4266-bd6e-964da959b81b",
   "metadata": {},
   "source": [
    "Q2. Write a program to accept the cost price of a bike and display the road tax to be paid according to the following criteria:\n",
    "\n",
    "    Tax ... cost price(in rs) \n",
    "   \n",
    "    15% .... > 100000\n",
    "   \n",
    "    10 % .... >50000 and <=100000\n",
    "    \n",
    "    5% ....... <= 50000"
   ]
  },
  {
   "cell_type": "code",
   "execution_count": 25,
   "id": "8b44d4f0-880f-4931-88f5-8c2e7e043b26",
   "metadata": {},
   "outputs": [
    {
     "name": "stdin",
     "output_type": "stream",
     "text": [
      "Enter the cost price of the bike (in Rs):  75000\n"
     ]
    },
    {
     "name": "stdout",
     "output_type": "stream",
     "text": [
      "Road tax to be paid: Rs  7500.0\n"
     ]
    }
   ],
   "source": [
    "cost_price = float(input(\"Enter the cost price of the bike (in Rs): \"))\n",
    "\n",
    "if cost_price > 100000:\n",
    "    road_tax = cost_price * 0.15\n",
    "elif 50000 < cost_price <= 100000:\n",
    "    road_tax = cost_price * 0.10\n",
    "else:\n",
    "    road_tax = cost_price * 0.05\n",
    "\n",
    "print(f\"Road tax to be paid: Rs \", road_tax)\n"
   ]
  },
  {
   "cell_type": "code",
   "execution_count": null,
   "id": "b500af16-89b0-49b3-9612-2c62ec6c311f",
   "metadata": {},
   "outputs": [],
   "source": []
  },
  {
   "cell_type": "markdown",
   "id": "56175d68-508b-4b2d-8ec4-6ccd4abc1d98",
   "metadata": {},
   "source": [
    "Q3. Accept any city from the user and display monuments of that city.\n",
    "\n",
    "City ....... Monument\n",
    "\n",
    "Delhi ...... Red Fort\n",
    "\n",
    "Agra ....... Taj Mahal\n",
    "\n",
    "Jaipur ...... Jal Mahal"
   ]
  },
  {
   "cell_type": "code",
   "execution_count": null,
   "id": "adfbdd2b-ee3b-456a-ac6b-a6a129a3928e",
   "metadata": {},
   "outputs": [
    {
     "name": "stdin",
     "output_type": "stream",
     "text": [
      "Enter the city name: Jaipur\n"
     ]
    }
   ],
   "source": [
    "city = input(\"Enter the city name:\")\n",
    "\n",
    "if city == \"Delhi\":\n",
    "    print(\"place to visit : Red Fort\")\n",
    "elif city == \"Agra\":\n",
    "    print(\"place to visit : Taj Mahal\")\n",
    "elif city == \"Jaipur\":\n",
    "    print(\"place to visit : jal Mahal\")\n",
    "  "
   ]
  },
  {
   "cell_type": "code",
   "execution_count": null,
   "id": "d2e5a83c-476a-4857-be0f-fad5f3f69f88",
   "metadata": {},
   "outputs": [],
   "source": []
  },
  {
   "cell_type": "markdown",
   "id": "6d0e1a79-4566-4d77-85d5-b99a43941634",
   "metadata": {},
   "source": [
    "Q4. Check how many times a given number can be divided by 3 before it is less than or equal to 10 "
   ]
  },
  {
   "cell_type": "code",
   "execution_count": 1,
   "id": "cb38b8d8-6098-4340-904a-51f928f09496",
   "metadata": {},
   "outputs": [
    {
     "name": "stdin",
     "output_type": "stream",
     "text": [
      "enter the number  81\n"
     ]
    },
    {
     "name": "stdout",
     "output_type": "stream",
     "text": [
      "Total iteration required 2\n"
     ]
    }
   ],
   "source": [
    "number = int(input(\"enter the number \"))\n",
    "\n",
    "count = 0\n",
    "while number > 10:\n",
    "    number = number / 3\n",
    "    count = count + 1\n",
    "print('Total iteration required', count)"
   ]
  },
  {
   "cell_type": "code",
   "execution_count": null,
   "id": "5cad2af9-83ca-4f81-843c-1ecbade854ed",
   "metadata": {},
   "outputs": [],
   "source": []
  },
  {
   "cell_type": "markdown",
   "id": "e806b14b-db64-407f-9648-30782570f782",
   "metadata": {},
   "source": [
    "Q5. Why and When to use while loop in python give a detailed description with example."
   ]
  },
  {
   "cell_type": "markdown",
   "id": "f4b6b41e-0f62-428b-9b74-c432b9ca6a0b",
   "metadata": {},
   "source": [
    "Answer:\n",
    "    \n",
    "1. A while loop is a control flow statement which allows code to be executed repeatedly, depending on whether a condition is satisfied or not.\n",
    "2. As long as some condition is true, 'while' repeats everything inside the loop block. \n",
    "3. It stops executing the block if and only if the condition fails."
   ]
  },
  {
   "cell_type": "code",
   "execution_count": null,
   "id": "643717e2-6bac-497e-af92-ce1f8d6d1eb7",
   "metadata": {},
   "outputs": [],
   "source": []
  },
  {
   "cell_type": "markdown",
   "id": "c96fdbb6-be20-4ede-9781-4cb50ab5c271",
   "metadata": {},
   "source": [
    "Q6. Use nested while loop to print 3 different pattern."
   ]
  },
  {
   "cell_type": "code",
   "execution_count": 11,
   "id": "0868b578-f17e-4e94-a34b-037017253a31",
   "metadata": {},
   "outputs": [
    {
     "name": "stdout",
     "output_type": "stream",
     "text": [
      "* \n",
      "* * \n",
      "* * * \n",
      "* * * * \n",
      "* * * * * \n"
     ]
    }
   ],
   "source": [
    "i=1\n",
    "while i<=5:\n",
    "    j=1\n",
    "    while j<=i:\n",
    "        print(\"*\",end=\" \")\n",
    "        j=j+1\n",
    "    print(\"\")\n",
    "    i=i+1"
   ]
  },
  {
   "cell_type": "code",
   "execution_count": 16,
   "id": "dd58a9fa-4bd1-412a-bc75-dad51268679a",
   "metadata": {},
   "outputs": [
    {
     "name": "stdout",
     "output_type": "stream",
     "text": [
      "* * * * * \n",
      "* * * * \n",
      "* * * \n",
      "* * \n",
      "* \n"
     ]
    }
   ],
   "source": [
    "i = 5\n",
    "while i >= 1:\n",
    "    j = 1\n",
    "    while j <= i:\n",
    "        print(\"*\", end=\" \")\n",
    "        j += 1\n",
    "    print(\"\")\n",
    "    i -= 1"
   ]
  },
  {
   "cell_type": "code",
   "execution_count": 19,
   "id": "c5fa6983-b879-4bc6-83f8-513e2921853e",
   "metadata": {},
   "outputs": [
    {
     "name": "stdout",
     "output_type": "stream",
     "text": [
      "    *\n",
      "   ***\n",
      "  *****\n",
      " *******\n",
      "*********\n"
     ]
    }
   ],
   "source": [
    "size = 5\n",
    "i = 0\n",
    "while i < size:\n",
    "    j = 0\n",
    "    while j < size - i - 1:\n",
    "        print(' ', end='')\n",
    "        j += 1\n",
    "    k = 0\n",
    "    while k < 2 * i + 1:\n",
    "        print('*', end='')\n",
    "        k += 1\n",
    "    print()\n",
    "    i += 1"
   ]
  },
  {
   "cell_type": "code",
   "execution_count": null,
   "id": "66f89a42-6217-4e1f-8a8c-086d875f320a",
   "metadata": {},
   "outputs": [],
   "source": []
  },
  {
   "cell_type": "markdown",
   "id": "282af6d1-504d-4259-91f1-45e0670a4d93",
   "metadata": {},
   "source": [
    "Q7. Reverse a while loop to display numbers from 10 to 1.\n"
   ]
  },
  {
   "cell_type": "code",
   "execution_count": 20,
   "id": "ff441c78-f624-4160-b821-345eb33cd4fe",
   "metadata": {},
   "outputs": [
    {
     "name": "stdout",
     "output_type": "stream",
     "text": [
      "10 9 8 7 6 5 4 3 2 1 "
     ]
    }
   ],
   "source": [
    "i = 10\n",
    "while i >= 1:\n",
    "    print(i, end=\" \")\n",
    "    i -= 1"
   ]
  },
  {
   "cell_type": "code",
   "execution_count": null,
   "id": "33cf8735-5f07-4095-a3b7-04e09befcbee",
   "metadata": {},
   "outputs": [],
   "source": []
  },
  {
   "cell_type": "markdown",
   "id": "66ea9e68-64bb-404a-986e-2800bc223b09",
   "metadata": {},
   "source": [
    "Q8. Reverse a while loop to display numbers from 10 to 1"
   ]
  },
  {
   "cell_type": "code",
   "execution_count": 21,
   "id": "6e8c3b5f-edf2-4088-90b1-6d397a8c64cd",
   "metadata": {},
   "outputs": [
    {
     "name": "stdout",
     "output_type": "stream",
     "text": [
      "10 9 8 7 6 5 4 3 2 1 "
     ]
    }
   ],
   "source": [
    "i = 10\n",
    "while i >= 1:\n",
    "    print(i, end=\" \")\n",
    "    i -= 1"
   ]
  },
  {
   "cell_type": "code",
   "execution_count": null,
   "id": "c6f46eb8-3007-4ba9-8cb6-afc9cbe0fedc",
   "metadata": {},
   "outputs": [],
   "source": []
  }
 ],
 "metadata": {
  "kernelspec": {
   "display_name": "Python 3 (ipykernel)",
   "language": "python",
   "name": "python3"
  },
  "language_info": {
   "codemirror_mode": {
    "name": "ipython",
    "version": 3
   },
   "file_extension": ".py",
   "mimetype": "text/x-python",
   "name": "python",
   "nbconvert_exporter": "python",
   "pygments_lexer": "ipython3",
   "version": "3.10.8"
  }
 },
 "nbformat": 4,
 "nbformat_minor": 5
}
