{
 "cells": [
  {
   "cell_type": "markdown",
   "id": "b4fe2144-412c-4d1d-a50c-91b065bfc3a5",
   "metadata": {},
   "source": [
    "Q1. What is Abstraction in OOps? Explain with an example.\n",
    "\n",
    "Answer:\n",
    "\n",
    "1. Abstraction is a concept that allows you to model the relevant properties and behavior of an object while ignoring the unnecessary.\n",
    "2. details. It involves hiding the complex reality while exposing only the essential parts. \n",
    "3. Abstraction helps in managing the complexity of a system by simplifying it into more manageable and understandable components.\n"
   ]
  },
  {
   "cell_type": "code",
   "execution_count": 1,
   "id": "e6ebf2f6-7c05-42da-9932-e1cd9d4f4e77",
   "metadata": {},
   "outputs": [
    {
     "name": "stdout",
     "output_type": "stream",
     "text": [
      "The Blue car is starting.\n",
      "The Blue car is stopping.\n"
     ]
    }
   ],
   "source": [
    "# example\n",
    "\n",
    "class Car:\n",
    "    def __init__(self, color, speed):\n",
    "        self.color = color\n",
    "        self.speed = speed\n",
    "\n",
    "    def start(self):\n",
    "        print(f\"The {self.color} car is starting.\")\n",
    "\n",
    "    def stop(self):\n",
    "        print(f\"The {self.color} car is stopping.\")\n",
    "\n",
    "my_car = Car(color=\"Blue\", speed=60)\n",
    "my_car.start()\n",
    "my_car.stop()\n"
   ]
  },
  {
   "cell_type": "code",
   "execution_count": null,
   "id": "ab13368f-fa3a-4c90-8f33-aa68b23f30f6",
   "metadata": {},
   "outputs": [],
   "source": []
  },
  {
   "cell_type": "markdown",
   "id": "8af24189-c7c5-4411-8618-047bd9c0c756",
   "metadata": {},
   "source": [
    "Q2. Differentiate between Abstraction and Encapsulation. Explain with an example.\n",
    "\n",
    "Answer:\n",
    "\n",
    "* Abstraction:\n",
    "\n",
    "1. Abstraction involves hiding the complex reality while exposing only the essential parts.\n",
    "2. It focuses on what an object does and represents.\n",
    "3. Example: Defining a class Animal with methods like eat(), sleep(), and properties like species, abstracting away the details of each specific animal.\n",
    "\n",
    "* Encapsulation:\n",
    "\n",
    "1. Encapsulation involves bundling the data (attributes) and methods (functions) that operate on the data into a single unit (class).\n",
    "2. It focuses on how an object achieves its functionality.\n",
    "3. Example: Encapsulating the details of a BankAccount class, where account balance and transactions are kept private, and methods like deposit() and withdraw() interact with the data.\n"
   ]
  },
  {
   "cell_type": "code",
   "execution_count": 13,
   "id": "cf327154-9bb7-4be8-a4e6-aa42ba91ce5f",
   "metadata": {},
   "outputs": [],
   "source": [
    "# Abstraction example\n",
    "\n",
    "import abc\n",
    "class pwskills:\n",
    "    @abc.abstractmethod\n",
    "    def student_details(self):\n",
    "        pass \n",
    "    @abc.abstractmethod\n",
    "    def student_assignment(self):\n",
    "        pass\n",
    "    @abc.abstractmethod\n",
    "    def student_marks(self):\n",
    "        pass"
   ]
  },
  {
   "cell_type": "code",
   "execution_count": 14,
   "id": "4c496c27-85a0-40e1-9d24-b4f015fee5f6",
   "metadata": {},
   "outputs": [],
   "source": [
    "class student_details(pwskills):\n",
    "    \n",
    "    def student_details(self):\n",
    "        return \"this is a math for taking students details\"\n",
    "    \n",
    "    def student_details(self):\n",
    "        return \"this is meth for assigning details for a particular student\""
   ]
  },
  {
   "cell_type": "code",
   "execution_count": 15,
   "id": "79594aa4-9c26-4a76-8a7a-3b13e81f59b4",
   "metadata": {},
   "outputs": [],
   "source": [
    "class data_science_masters(pwskills):\n",
    "    \n",
    "    def student_details(self):\n",
    "        return \"this is a math for taking students details for data science masters\"\n",
    "    \n",
    "    def student_details(self):\n",
    "        return \"this will give the student assignment details for data science masters\""
   ]
  },
  {
   "cell_type": "code",
   "execution_count": 16,
   "id": "b4b895ff-1f32-4b93-bacb-c794b98e3243",
   "metadata": {},
   "outputs": [],
   "source": [
    "dsm = data_science_masters()"
   ]
  },
  {
   "cell_type": "code",
   "execution_count": 17,
   "id": "aae2f3a4-6789-4c75-b54d-8fdb2390a656",
   "metadata": {},
   "outputs": [
    {
     "data": {
      "text/plain": [
       "'this will give the student assignment details for data science masters'"
      ]
     },
     "execution_count": 17,
     "metadata": {},
     "output_type": "execute_result"
    }
   ],
   "source": [
    "dsm.student_details()"
   ]
  },
  {
   "cell_type": "code",
   "execution_count": 10,
   "id": "1c7d4739-5a9d-4d77-8ad0-f64951271c3b",
   "metadata": {},
   "outputs": [],
   "source": [
    "# encapsulation example\n",
    "\n",
    "class bank_account :\n",
    "    def __init__(self, balance):\n",
    "        self.__balance = balance\n",
    "        \n",
    "    def deposit(self, amount):\n",
    "        self.__balance = self.__balance + amount\n",
    "        \n",
    "    def withdraw(self, amount):\n",
    "        if self.__balance >= amount :\n",
    "            self.__balance = self.__balance - amount\n",
    "            return True\n",
    "        else:\n",
    "            return False\n",
    "    \n",
    "    def get_balance(self):\n",
    "        return self.__balance"
   ]
  },
  {
   "cell_type": "code",
   "execution_count": 11,
   "id": "cb051e03-df1a-476d-adc3-81dbc3d55457",
   "metadata": {},
   "outputs": [],
   "source": [
    "b = bank_account(1000)"
   ]
  },
  {
   "cell_type": "code",
   "execution_count": 12,
   "id": "19f561e2-6a13-4168-876d-c0e5c644cfa2",
   "metadata": {},
   "outputs": [
    {
     "data": {
      "text/plain": [
       "1000"
      ]
     },
     "execution_count": 12,
     "metadata": {},
     "output_type": "execute_result"
    }
   ],
   "source": [
    "b.get_balance()"
   ]
  },
  {
   "cell_type": "code",
   "execution_count": null,
   "id": "8efb5979-fbaf-42f3-8577-a63e6643eb1f",
   "metadata": {},
   "outputs": [],
   "source": []
  },
  {
   "cell_type": "markdown",
   "id": "11c4f2c4-33fe-40e9-bd1b-b02f81e7c551",
   "metadata": {},
   "source": [
    "Q3. What is abc module in python? Why is it used?\n",
    "\n",
    "Answer:\n",
    "\n",
    "1. The abc module in Python stands for Abstract Base Classes. \n",
    "2. It provides a way to define abstract base classes in Python using the ABC (Abstract Base Class) meta-class.\n",
    "3. It is used to enforce the presence of certain methods in derived classes, making it a tool for achieving abstraction. \n",
    "3. Abstract base classes serve as a blueprint for other classes, ensuring that specific methods are implemented in the derived classes."
   ]
  },
  {
   "cell_type": "code",
   "execution_count": 3,
   "id": "e90de812-cc76-43c3-8244-83029dee302e",
   "metadata": {},
   "outputs": [],
   "source": [
    "# example:\n",
    "\n",
    "from abc import ABC, abstractmethod\n",
    "\n",
    "class Shape(ABC):\n",
    "    @abstractmethod\n",
    "    def area(self):\n",
    "        pass\n",
    "\n",
    "class Circle(Shape):\n",
    "    def __init__(self, radius):\n",
    "        self.radius = radius\n",
    "\n",
    "    def area(self):\n",
    "        return 3.14 * self.radius ** 2\n",
    "\n"
   ]
  },
  {
   "cell_type": "code",
   "execution_count": 5,
   "id": "dcb04008-96f5-4b26-939d-2983b9fb26a7",
   "metadata": {},
   "outputs": [
    {
     "ename": "TypeError",
     "evalue": "Can't instantiate abstract class Shape with abstract method area",
     "output_type": "error",
     "traceback": [
      "\u001b[0;31m---------------------------------------------------------------------------\u001b[0m",
      "\u001b[0;31mTypeError\u001b[0m                                 Traceback (most recent call last)",
      "Cell \u001b[0;32mIn[5], line 2\u001b[0m\n\u001b[1;32m      1\u001b[0m \u001b[38;5;66;03m# This will raise an error since the derived class must implement the abstract method 'area'.\u001b[39;00m\n\u001b[0;32m----> 2\u001b[0m my_shape \u001b[38;5;241m=\u001b[39m \u001b[43mShape\u001b[49m\u001b[43m(\u001b[49m\u001b[43m)\u001b[49m  \u001b[38;5;66;03m# Error\u001b[39;00m\n",
      "\u001b[0;31mTypeError\u001b[0m: Can't instantiate abstract class Shape with abstract method area"
     ]
    }
   ],
   "source": [
    "# This will raise an error since the derived class must implement the abstract method 'area'.\n",
    "my_shape = Shape()  # Error"
   ]
  },
  {
   "cell_type": "code",
   "execution_count": null,
   "id": "cdacf6fc-683e-4225-ac41-0b72978d1414",
   "metadata": {},
   "outputs": [],
   "source": []
  },
  {
   "cell_type": "markdown",
   "id": "77601c79-094a-4475-8c60-d8ca99ca6d45",
   "metadata": {},
   "source": [
    "Q4. How can we achieve data abstraction?\n",
    "\n",
    "Answer:\n",
    "\n",
    "Data abstraction can be achieved in Python in following ways:\n",
    "\n",
    "1. Use of Classes and Objects: Define classes to encapsulate data and methods that operate on that data. Objects represent instances of these classes, and only essential details are exposed.\n",
    "\n",
    "2. Encapsulation: Use access modifiers (public, private, protected) to control the visibility of attributes and methods. Private attributes can only be accessed within the class, abstracting away internal details.\n",
    "\n",
    "3. Abstract Base Classes (ABC): Use the abc module to define abstract base classes and enforce the presence of specific methods in derived classes."
   ]
  },
  {
   "cell_type": "code",
   "execution_count": null,
   "id": "a7a690bb-58f8-470f-b430-48d160208e38",
   "metadata": {},
   "outputs": [],
   "source": []
  },
  {
   "cell_type": "markdown",
   "id": "235448a7-22b2-4564-b4c2-5efad5dca88d",
   "metadata": {},
   "source": [
    "Q5. Can we create an instance of an abstract class? Explain your answer.\n",
    "\n",
    "Answer:\n",
    "\n",
    "1. No, we cannot create an instance of an abstract class in Python.\n",
    "2. Abstract classes are meant to be subclassed, and they typically contain one or more abstract methods that must be implemented by the concrete classes."
   ]
  },
  {
   "cell_type": "code",
   "execution_count": 4,
   "id": "157bc3f7-2156-44c2-9dcd-e61c28aa7fb4",
   "metadata": {},
   "outputs": [],
   "source": [
    "#example\n",
    "\n",
    "from abc import ABC, abstractmethod\n",
    "\n",
    "class MyAbstractClass(ABC):\n",
    "    @abstractmethod\n",
    "    def my_method(self):\n",
    "        pass\n"
   ]
  },
  {
   "cell_type": "code",
   "execution_count": 6,
   "id": "e1f1e619-f2cf-4734-9005-5cf1bef8d24d",
   "metadata": {},
   "outputs": [
    {
     "ename": "TypeError",
     "evalue": "Can't instantiate abstract class MyAbstractClass with abstract method my_method",
     "output_type": "error",
     "traceback": [
      "\u001b[0;31m---------------------------------------------------------------------------\u001b[0m",
      "\u001b[0;31mTypeError\u001b[0m                                 Traceback (most recent call last)",
      "Cell \u001b[0;32mIn[6], line 2\u001b[0m\n\u001b[1;32m      1\u001b[0m \u001b[38;5;66;03m# Trying to create an instance of the abstract class will raise an error.\u001b[39;00m\n\u001b[0;32m----> 2\u001b[0m obj \u001b[38;5;241m=\u001b[39m \u001b[43mMyAbstractClass\u001b[49m\u001b[43m(\u001b[49m\u001b[43m)\u001b[49m \n",
      "\u001b[0;31mTypeError\u001b[0m: Can't instantiate abstract class MyAbstractClass with abstract method my_method"
     ]
    }
   ],
   "source": [
    "# Trying to create an instance of the abstract class will raise an error.\n",
    "obj = MyAbstractClass() "
   ]
  },
  {
   "cell_type": "code",
   "execution_count": null,
   "id": "fa0b085c-fada-4643-bb56-4df9cdaf45db",
   "metadata": {},
   "outputs": [],
   "source": []
  }
 ],
 "metadata": {
  "kernelspec": {
   "display_name": "Python 3 (ipykernel)",
   "language": "python",
   "name": "python3"
  },
  "language_info": {
   "codemirror_mode": {
    "name": "ipython",
    "version": 3
   },
   "file_extension": ".py",
   "mimetype": "text/x-python",
   "name": "python",
   "nbconvert_exporter": "python",
   "pygments_lexer": "ipython3",
   "version": "3.10.8"
  }
 },
 "nbformat": 4,
 "nbformat_minor": 5
}
