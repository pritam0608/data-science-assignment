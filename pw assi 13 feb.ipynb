{
 "cells": [
  {
   "cell_type": "markdown",
   "id": "a470a031",
   "metadata": {},
   "source": [
    "Q1. Explain why we have to use the Exception class while creating a Custom Exception.\n",
    "\n",
    "Note: Here Exception class refers to the base class for all the exceptions.\n",
    "\n",
    "Answer:\n",
    "\n",
    "1. When creating a custom exception in Python, it is recommended to derive the new exception class from the built-in Exception class. \n",
    "2. The Exception class is the base class for all built-in exceptions in Python.\n",
    "\n",
    "* using Exception class as the base class for custom exceptions provides several benefits:\n",
    "\n",
    "A. Inheritance from a Standardized Base Class:\n",
    "\n",
    "By inheriting from the Exception class, your custom exception becomes part of the standard exception hierarchy in Python.\n",
    "This ensures that your custom exception is consistent with the built-in exceptions in terms of behavior and usage.\n",
    "\n",
    "\n",
    "B. Compatibility with Exception Handling Mechanisms:\n",
    "\n",
    "When handling exceptions in a program, developers often use a catch-all block like except Exception as e: to handle any unexpected errors.\n",
    "If your custom exception is derived from Exception, it will be caught by such catch-all blocks, making it easier to handle and log custom exceptions along with standard exceptions.\n",
    "\n",
    "C. Integration with the try-except Mechanism:\n",
    "\n",
    "Using the Exception class allows your custom exception to be caught along with other standard exceptions using the same try-except mechanism.\n",
    "This promotes consistency in exception handling throughout the codebase.\n",
    "\n"
   ]
  },
  {
   "cell_type": "code",
   "execution_count": 1,
   "id": "e5104d22",
   "metadata": {},
   "outputs": [],
   "source": [
    "# example\n",
    "\n",
    "class validateage(Exception): \n",
    "    \n",
    "    def __init__(self, msg):\n",
    "        self.msg = msg\n",
    "        \n",
    "def valid_age(age):\n",
    "    if age < 0 :\n",
    "        raise validateage(\"error: enter age is negative \") \n",
    "    elif age > 200:\n",
    "        raise validateage(\"error : enter age is very high \")\n",
    "    else:\n",
    "        print(\"age is valid\")"
   ]
  },
  {
   "cell_type": "code",
   "execution_count": 2,
   "id": "66508d90",
   "metadata": {},
   "outputs": [
    {
     "name": "stdout",
     "output_type": "stream",
     "text": [
      "enter your age -25\n",
      "error: enter age is negative \n"
     ]
    }
   ],
   "source": [
    "try:\n",
    "    age = int(input(\"enter your age \"))\n",
    "    valid_age(age)\n",
    "except validateage as e:\n",
    "    print(e)"
   ]
  },
  {
   "cell_type": "code",
   "execution_count": null,
   "id": "5f6d95ea",
   "metadata": {},
   "outputs": [],
   "source": []
  },
  {
   "cell_type": "markdown",
   "id": "4b32bedd",
   "metadata": {},
   "source": [
    "Q2. Write a python program to print Python Exception Hierarchy.\n",
    "\n",
    "Answer:\n",
    "    "
   ]
  },
  {
   "cell_type": "code",
   "execution_count": 4,
   "id": "a6e570f7",
   "metadata": {},
   "outputs": [
    {
     "name": "stdout",
     "output_type": "stream",
     "text": [
      "Python Exception Hierarchy:\n",
      "Exception\n",
      "  BaseException\n",
      "    object\n"
     ]
    }
   ],
   "source": [
    "def exception_hierarchy(exception_class, indent=0):\n",
    "    print(\"  \" * indent + f\"{exception_class.__name__}\")\n",
    "    \n",
    "    for base_exception in exception_class.__bases__:\n",
    "        exception_hierarchy(base_exception, indent + 1)\n",
    "\n",
    "print(\"Python Exception Hierarchy:\")\n",
    "exception_hierarchy(Exception)\n"
   ]
  },
  {
   "cell_type": "code",
   "execution_count": null,
   "id": "259dbc09",
   "metadata": {},
   "outputs": [],
   "source": []
  },
  {
   "cell_type": "markdown",
   "id": "1324fd7d",
   "metadata": {},
   "source": [
    "Q3. What errors are defined in the ArithmeticError class? Explain any two with an example.\n",
    "\n",
    "Answer:\n",
    "    \n",
    "1. In Python, the ArithmeticError class is the base class for exceptions that arise during arithmetic operations. \n",
    "2. Two common errors derived from ArithmeticError are ZeroDivisionError and OverflowError.\n",
    "\n",
    "* ZeroDivisionError:\n",
    "This error occurs when you try to divide a number by zero, which is mathematically undefined.\n",
    "\n",
    "\n",
    "* OverflowError:\n",
    "This error occurs when the result of an arithmetic operation exceeds the representational limits of the data type."
   ]
  },
  {
   "cell_type": "code",
   "execution_count": 9,
   "id": "a77c0ebc",
   "metadata": {},
   "outputs": [
    {
     "name": "stdout",
     "output_type": "stream",
     "text": [
      "Error: division by zero\n"
     ]
    }
   ],
   "source": [
    "# example ZeroDivisionError\n",
    "\n",
    "try:\n",
    "    result = 10 / 0 \n",
    "except ZeroDivisionError as e:\n",
    "    print(f\"Error: {e}\")\n"
   ]
  },
  {
   "cell_type": "code",
   "execution_count": 10,
   "id": "0e2d933c",
   "metadata": {},
   "outputs": [
    {
     "name": "stdout",
     "output_type": "stream",
     "text": [
      "Error: cannot convert float infinity to integer\n"
     ]
    }
   ],
   "source": [
    "# example OverflowError:\n",
    "\n",
    "try:\n",
    "    large_float = float('inf')\n",
    "    result = int(large_float) \n",
    "except OverflowError as e:\n",
    "    print(f\"Error: {e}\")\n"
   ]
  },
  {
   "cell_type": "code",
   "execution_count": null,
   "id": "47ff8bc0",
   "metadata": {},
   "outputs": [],
   "source": []
  },
  {
   "cell_type": "markdown",
   "id": "c6ac91ca",
   "metadata": {},
   "source": [
    "Q4. Why LookupError class is used? Explain with an example KeyError and IndexError.\n",
    "\n",
    "Answer:\n",
    "    \n",
    "1. The LookupError class is a base class for exceptions that occur when a lookup or indexing operation fails. \n",
    "2. It serves as the parent class for several specific lookup-related exceptions in Python, such as KeyError and IndexError. \n",
    "3. Using LookupError as a base class allows for catching these exceptions in a more general way when handling lookup failures.\n",
    "\n",
    "* KeyError:\n",
    " KeyError is raised when a dictionary key is not found during a lookup operation.\n",
    "\n",
    "\n",
    "* IndexError:\n",
    " IndexError is raised when a sequence (like a list or tuple) is indexed with a value that is out of range."
   ]
  },
  {
   "cell_type": "code",
   "execution_count": 11,
   "id": "6bb84cdb",
   "metadata": {},
   "outputs": [
    {
     "name": "stdout",
     "output_type": "stream",
     "text": [
      "Error: 'd'\n"
     ]
    }
   ],
   "source": [
    "# example KeyError\n",
    "\n",
    "my_dict = {'a': 1, 'b': 2, 'c': 3}\n",
    "\n",
    "try:\n",
    "    value = my_dict['d'] \n",
    "except KeyError as e:\n",
    "    print(f\"Error: {e}\")\n"
   ]
  },
  {
   "cell_type": "code",
   "execution_count": 12,
   "id": "1f490740",
   "metadata": {},
   "outputs": [
    {
     "name": "stdout",
     "output_type": "stream",
     "text": [
      "Error: list index out of range\n"
     ]
    }
   ],
   "source": [
    "# example IndexError\n",
    "\n",
    "my_list = [1, 2, 3, 4, 5]\n",
    "\n",
    "try:\n",
    "    element = my_list[10] \n",
    "except IndexError as e:\n",
    "    print(f\"Error: {e}\")\n"
   ]
  },
  {
   "cell_type": "code",
   "execution_count": null,
   "id": "7081c7b3",
   "metadata": {},
   "outputs": [],
   "source": []
  },
  {
   "cell_type": "markdown",
   "id": "63f3621e",
   "metadata": {},
   "source": [
    "Q5. Explain ImportError. What is ModuleNotFoundError?\n",
    "\n",
    "Answer:\n",
    " \n",
    "* ImportError\n",
    "\n",
    "1. ImportError is an exception class in Python that is raised when an import statement fails to locate or load a module.\n",
    "2. It is a base class for various import-related errors. \n",
    "3. One specific subclass of ImportError introduced in Python 3.3 is ModuleNotFoundError.\n",
    "\n",
    "* ModuleNotFoundError:\n",
    "\n",
    "1. ModuleNotFoundError is a more specific subclass of ImportError that was introduced in Python 3.6. \n",
    "2. It is raised when the interpreter cannot locate the module specified in the import statement."
   ]
  },
  {
   "cell_type": "code",
   "execution_count": 14,
   "id": "181ccc81",
   "metadata": {},
   "outputs": [
    {
     "name": "stdout",
     "output_type": "stream",
     "text": [
      "Error: No module named 'non_existent_module'\n"
     ]
    }
   ],
   "source": [
    "# Example :\n",
    "\n",
    "try:\n",
    "    import non_existent_module  \n",
    "except ModuleNotFoundError as e:\n",
    "    print(f\"Error: {e}\")\n"
   ]
  },
  {
   "cell_type": "code",
   "execution_count": null,
   "id": "c456e632",
   "metadata": {},
   "outputs": [],
   "source": []
  },
  {
   "cell_type": "markdown",
   "id": "f730f0be",
   "metadata": {},
   "source": [
    "Q6. List down some best practices for exception handling in python.\n",
    "\n",
    "Answer:\n",
    "\n",
    "Exception handling is a crucial aspect of writing robust and maintainable Python code.\n",
    "\n",
    "Here are some best practices for exception handling in Python:\n",
    "    \n",
    "1. Use finally for Cleanup:\n",
    "\n",
    "Use the finally block to ensure that cleanup code (e.g., closing files or releasing resources) is executed, regardless of whether an exception occurs.\n",
    "\n",
    "2. Raising Exceptions:\n",
    "\n",
    "Raise exceptions with meaningful error messages to provide clear information about what went wrong. Include relevant details in the exception message.\n",
    "\n",
    "3. Custom Exceptions:\n",
    "\n",
    "When necessary, create custom exception classes to convey specific error conditions in your code. This can make error handling more expressive\n",
    "\n",
    "4. Log Exceptions:\n",
    "\n",
    "Use logging to capture information about exceptions. This helps in diagnosing problems during development and monitoring issues in production.\n",
    "\n",
    "5. Use Specific Exceptions:\n",
    "\n",
    "Catch specific exceptions rather than using a broad Exception catch-all block. This helps in handling different types of errors in a more targeted manner.\n",
    "\n"
   ]
  },
  {
   "cell_type": "code",
   "execution_count": 16,
   "id": "f5c588c7",
   "metadata": {},
   "outputs": [],
   "source": []
  },
  {
   "cell_type": "code",
   "execution_count": null,
   "id": "c80dea53",
   "metadata": {},
   "outputs": [],
   "source": []
  }
 ],
 "metadata": {
  "kernelspec": {
   "display_name": "Python 3 (ipykernel)",
   "language": "python",
   "name": "python3"
  },
  "language_info": {
   "codemirror_mode": {
    "name": "ipython",
    "version": 3
   },
   "file_extension": ".py",
   "mimetype": "text/x-python",
   "name": "python",
   "nbconvert_exporter": "python",
   "pygments_lexer": "ipython3",
   "version": "3.9.12"
  }
 },
 "nbformat": 4,
 "nbformat_minor": 5
}
