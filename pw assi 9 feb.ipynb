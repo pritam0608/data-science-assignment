{
 "cells": [
  {
   "cell_type": "markdown",
   "id": "3d53afc5-6e62-48c1-8ac5-9c298d387396",
   "metadata": {},
   "source": [
    "Q1. Create a vehicle class with an init method having instance variables as name_of_vehicle, max_speed\n",
    "and average_of_vehicle.\n",
    "\n",
    "Answer:\n"
   ]
  },
  {
   "cell_type": "code",
   "execution_count": 1,
   "id": "7d80fe94-efb4-4ee3-be3e-2f5ca8dd90b6",
   "metadata": {},
   "outputs": [
    {
     "name": "stdout",
     "output_type": "stream",
     "text": [
      "Name: Swift, Max Speed: 200 km/h, Average: 25 km/l\n"
     ]
    }
   ],
   "source": [
    "class Vehicle:\n",
    "    def __init__(self, name_of_vehicle, max_speed, average_of_vehicle):\n",
    "        self.name_of_vehicle = name_of_vehicle\n",
    "        self.max_speed = max_speed\n",
    "        self.average_of_vehicle = average_of_vehicle\n",
    "\n",
    "car = Vehicle(\"Swift\", 200, 25)\n",
    "print(f\"Name: {car.name_of_vehicle}, Max Speed: {car.max_speed} km/h, Average: {car.average_of_vehicle} km/l\")\n"
   ]
  },
  {
   "cell_type": "code",
   "execution_count": null,
   "id": "a43da779-5084-43a2-a678-3536ec54525c",
   "metadata": {},
   "outputs": [],
   "source": []
  },
  {
   "cell_type": "markdown",
   "id": "7b8dd5a8-3ea9-4597-ae9d-98d65999584e",
   "metadata": {},
   "source": [
    "Q2. Create a child class car from the vehicle class created in Que 1, which will inherit the vehicle class.\n",
    "Create a method named seating_capacity which takes capacity as an argument and returns the name of\n",
    "the vehicle and its seating capacity.\n",
    "\n",
    "Answer:"
   ]
  },
  {
   "cell_type": "code",
   "execution_count": 3,
   "id": "a6a7934e-cca8-4646-a6d8-5fa1bc5bbc2a",
   "metadata": {},
   "outputs": [
    {
     "name": "stdout",
     "output_type": "stream",
     "text": [
      "Name: swift, Max Speed: 200 km/h, Average: 25 km/l\n",
      "swift has a seating capacity of 5 people.\n"
     ]
    }
   ],
   "source": [
    "class Car(Vehicle):\n",
    "    def __init__(self, name_of_vehicle, max_speed, average_of_vehicle):\n",
    "        super().__init__(name_of_vehicle, max_speed, average_of_vehicle)\n",
    "\n",
    "    def seating_capacity(self, capacity):\n",
    "        return f\"{self.name_of_vehicle} has a seating capacity of {capacity} people.\"\n",
    "\n",
    "car_instance = Car(\"swift\", 200, 25)\n",
    "print(f\"Name: {car_instance.name_of_vehicle}, Max Speed: {car_instance.max_speed} km/h, Average: {car_instance.average_of_vehicle} km/l\")\n",
    "print(car_instance.seating_capacity(5))\n"
   ]
  },
  {
   "cell_type": "code",
   "execution_count": null,
   "id": "7b8d109f-f0cc-4fc0-b567-96ad4e25e91e",
   "metadata": {},
   "outputs": [],
   "source": []
  },
  {
   "cell_type": "markdown",
   "id": "d1e04db1-64ff-42f5-b2e5-fdb2525ca2dd",
   "metadata": {},
   "source": [
    "Q3. What is multiple inheritance? Write a python code to demonstrate multiple inheritance.\n",
    "\n",
    "Answer:\n",
    "\n",
    "1. Multiple inheritance in Python refers to a situation where a class can inherit attributes and methods from more than one parent class. \n",
    "2. This allows a child class to inherit from multiple parent classes"
   ]
  },
  {
   "cell_type": "code",
   "execution_count": 7,
   "id": "e86527d8-ad07-4d21-a704-bfd647016a0a",
   "metadata": {},
   "outputs": [],
   "source": [
    "class class1:\n",
    "    \n",
    "    def test_class1(self):\n",
    "        return \"this is a class1\"\n",
    "    \n",
    "class class2:\n",
    "    def test_class2(self):\n",
    "        return \"this is class2\"\n",
    "\n",
    "class class3(class1, class2):\n",
    "    pass\n"
   ]
  },
  {
   "cell_type": "code",
   "execution_count": 8,
   "id": "8b46d0c6-973b-4b2d-bfd6-331f1e7f9785",
   "metadata": {},
   "outputs": [],
   "source": [
    "obj_class3 = class3()"
   ]
  },
  {
   "cell_type": "code",
   "execution_count": 9,
   "id": "c2c840b2-4f92-4083-aa63-9138449b215c",
   "metadata": {},
   "outputs": [
    {
     "data": {
      "text/plain": [
       "'this is a class1'"
      ]
     },
     "execution_count": 9,
     "metadata": {},
     "output_type": "execute_result"
    }
   ],
   "source": [
    "obj_class3.test_class1()"
   ]
  },
  {
   "cell_type": "code",
   "execution_count": 10,
   "id": "9de223e7-3a56-4d62-b48b-0c6d8ca75ec2",
   "metadata": {},
   "outputs": [
    {
     "data": {
      "text/plain": [
       "'this is class2'"
      ]
     },
     "execution_count": 10,
     "metadata": {},
     "output_type": "execute_result"
    }
   ],
   "source": [
    "obj_class3.test_class2()"
   ]
  },
  {
   "cell_type": "code",
   "execution_count": null,
   "id": "84b8533a-6554-4d62-949a-db082cafa1f0",
   "metadata": {},
   "outputs": [],
   "source": []
  },
  {
   "cell_type": "markdown",
   "id": "1293ebf0-8767-4d3b-84b2-64ebca60d127",
   "metadata": {},
   "source": [
    "Q4. What are getter and setter in python? Create a class and create a getter and a setter method in this\n",
    "class.\n",
    "\n",
    "Answer:\n",
    "    \n",
    "1. In Python, getters and setters are methods used to access and modify the attributes of a class, providing a way to control the access and modification of the class's internal data. \n",
    "2. This helps encapsulate the implementation details and allows for better control over the class's state"
   ]
  },
  {
   "cell_type": "code",
   "execution_count": 12,
   "id": "6b5b1843-9b10-4822-bc76-266ba282cc5c",
   "metadata": {},
   "outputs": [],
   "source": [
    "# exa,ple code:\n",
    "\n",
    "class car :\n",
    "    def __init__(self, year, make, model, speed):\n",
    "        \n",
    "        self.__year = year \n",
    "        self.__make = make\n",
    "        self.__model = model\n",
    "        self.__speed = 0\n",
    "        \n",
    "    def set_speed(self,speed):\n",
    "        self.__speed = 0 if speed < 0 else speed # hum nahi chahte user directly call kre isliye set get the use kr usse call karaynge\n",
    "    \n",
    "    def get_speed(self):\n",
    "        return self.__speed"
   ]
  },
  {
   "cell_type": "code",
   "execution_count": 13,
   "id": "9ac5ca2d-2046-46f2-b414-fc1d4bb6dece",
   "metadata": {},
   "outputs": [],
   "source": [
    "c = car(2021, \"toyata\",\"innova\",12)"
   ]
  },
  {
   "cell_type": "code",
   "execution_count": 14,
   "id": "71b5705b-b5e5-4fd9-a8b6-08d4b8cb418c",
   "metadata": {},
   "outputs": [
    {
     "data": {
      "text/plain": [
       "0"
      ]
     },
     "execution_count": 14,
     "metadata": {},
     "output_type": "execute_result"
    }
   ],
   "source": [
    "c.get_speed()"
   ]
  },
  {
   "cell_type": "code",
   "execution_count": 15,
   "id": "252eb255-c40d-4cd7-b6a4-3c358b108ed3",
   "metadata": {},
   "outputs": [],
   "source": [
    " c.set_speed(45)"
   ]
  },
  {
   "cell_type": "code",
   "execution_count": 16,
   "id": "ce116d2b-dd1c-4f7f-a7f8-3311f0ac8dda",
   "metadata": {},
   "outputs": [
    {
     "data": {
      "text/plain": [
       "45"
      ]
     },
     "execution_count": 16,
     "metadata": {},
     "output_type": "execute_result"
    }
   ],
   "source": [
    "c.get_speed()"
   ]
  },
  {
   "cell_type": "code",
   "execution_count": null,
   "id": "e28bc2d6-7e63-4239-aba3-738abf51c0f7",
   "metadata": {},
   "outputs": [],
   "source": []
  },
  {
   "cell_type": "markdown",
   "id": "84a82da3-5a19-45e0-953c-f4cfd4615c96",
   "metadata": {},
   "source": [
    "Q5.What is method overriding in python? Write a python code to demonstrate method overriding.\n",
    "\n",
    "Answer:\n",
    "\n",
    "1. Method overriding in Python occurs when a subclass provides a specific implementation for a method that is already defined in its superclass. \n",
    "2. This allows the subclass to customize or extend the behavior of the method inherited from the superclass."
   ]
  },
  {
   "cell_type": "code",
   "execution_count": 17,
   "id": "6ab3acaf-fd8f-47dd-a02a-90f5cd8d5a45",
   "metadata": {},
   "outputs": [],
   "source": [
    "# example code :\n",
    "\n",
    "class Animal:\n",
    "    def speak(self):\n",
    "        return \"Animal speaks\"\n",
    "\n",
    "class Dog(Animal):\n",
    "    def speak(self):\n",
    "        return \"Dog barks\"\n",
    "\n",
    "class Cat(Animal):\n",
    "    def speak(self):\n",
    "        return \"Cat meows\""
   ]
  },
  {
   "cell_type": "code",
   "execution_count": 18,
   "id": "24903a8e-06ca-4f2b-98b3-e2a7f21a8431",
   "metadata": {},
   "outputs": [
    {
     "name": "stdout",
     "output_type": "stream",
     "text": [
      "Animal speaks\n"
     ]
    }
   ],
   "source": [
    "animal = Animal()\n",
    "print(animal.speak()) "
   ]
  },
  {
   "cell_type": "code",
   "execution_count": 19,
   "id": "de025b01-e0dd-40c6-a75a-7a96d8633a84",
   "metadata": {},
   "outputs": [
    {
     "name": "stdout",
     "output_type": "stream",
     "text": [
      "Dog barks\n"
     ]
    }
   ],
   "source": [
    "dog = Dog()\n",
    "print(dog.speak())"
   ]
  },
  {
   "cell_type": "code",
   "execution_count": 20,
   "id": "45dbd4ae-902c-48e2-9991-e1cc197f8035",
   "metadata": {},
   "outputs": [
    {
     "name": "stdout",
     "output_type": "stream",
     "text": [
      "Cat meows\n"
     ]
    }
   ],
   "source": [
    "cat = Cat()\n",
    "print(cat.speak())"
   ]
  },
  {
   "cell_type": "code",
   "execution_count": null,
   "id": "5731b3ff-87b8-4c20-adb3-4748d3217b0c",
   "metadata": {},
   "outputs": [],
   "source": []
  }
 ],
 "metadata": {
  "kernelspec": {
   "display_name": "Python 3 (ipykernel)",
   "language": "python",
   "name": "python3"
  },
  "language_info": {
   "codemirror_mode": {
    "name": "ipython",
    "version": 3
   },
   "file_extension": ".py",
   "mimetype": "text/x-python",
   "name": "python",
   "nbconvert_exporter": "python",
   "pygments_lexer": "ipython3",
   "version": "3.10.8"
  }
 },
 "nbformat": 4,
 "nbformat_minor": 5
}
