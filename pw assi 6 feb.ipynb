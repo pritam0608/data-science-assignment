{
 "cells": [
  {
   "cell_type": "markdown",
   "id": "1d47c0ee-fe86-4cf5-8313-d9e4f14930a3",
   "metadata": {},
   "source": [
    "Q 1. Create a function which will take a list as an argument and return the product of all the numbers\n",
    "after creating a flat list.\n",
    "\n",
    "Use the below-given list as an argument for your function.\n",
    "\n",
    "\n",
    "list1 = [1,2,3,4, [44,55,66, True], False, (34,56,78,89,34), {1,2,3,3,2,1}, {1:34, \"key2\": [55, 67, 78, 89], 4: (45,\n",
    "22, 61, 34)}, [56, 'data science'], 'Machine Learning']\n",
    "\n",
    "\n",
    "Note: you must extract numeric keys and values of the dictionary also."
   ]
  },
  {
   "cell_type": "markdown",
   "id": "317aa07a-add8-411a-8fb8-6eba85144660",
   "metadata": {},
   "source": [
    "Answer:"
   ]
  },
  {
   "cell_type": "code",
   "execution_count": 8,
   "id": "07234c80-9819-4c43-b3f6-f96fa85a661c",
   "metadata": {},
   "outputs": [
    {
     "name": "stdout",
     "output_type": "stream",
     "text": [
      "flat list : [1, 2, 3, 4, 44, 55, 66, 34, 56, 78, 89, 34, 1, 2, 3, 1, 4, 34, 55, 67, 78, 89, 45, 22, 61, 34, 56]\n",
      "product of all number: 4134711838987085478833841242112000\n"
     ]
    }
   ],
   "source": [
    "def func(a):\n",
    "    l1 = []\n",
    "    for i in a:\n",
    "        if type(i) == list:\n",
    "            for j in i:\n",
    "                if type(j) == int:\n",
    "                    l1.append(j)\n",
    "        elif type(i) == tuple:\n",
    "            for k in i:\n",
    "                if type(k) == int:\n",
    "                    l1.append(k)\n",
    "        elif type(i) == set:\n",
    "            for m in i:\n",
    "                if type(m) == int:\n",
    "                    l1.append(m)\n",
    "        elif type(i) == dict:\n",
    "            for n in i.keys():\n",
    "                if type(n) == int:\n",
    "                    l1.append(n)\n",
    "            for n in i.values():\n",
    "                if type(n) == int:\n",
    "                    l1.append(n)\n",
    "                elif type(n) == list:\n",
    "                    for n1 in n:\n",
    "                        if type(n1) == int:\n",
    "                            l1.append(n1)\n",
    "                elif type(n) == tuple:\n",
    "                    for n2 in n:\n",
    "                        if type(n2) == int:\n",
    "                            l1.append(n2)\n",
    "        elif type(i) == int:\n",
    "            l1.append(i)\n",
    "    return l1\n",
    "\n",
    "l = [1,2,3,4, [44,55,66, True], False, (34,56,78,89,34), {1,2,3,3,2,1}, {1:34, \"key2\": [55, 67, 78, 89], 4: (45,\n",
    "22, 61, 34)}, [56, 'data science'], 'Machine Learning']\n",
    "\n",
    "s = func(l)\n",
    "l1 = []\n",
    "for i in s:\n",
    "    l1.append(i)\n",
    "print(\"flat list :\",l1)\n",
    "\n",
    "product=1\n",
    "for num in l1:\n",
    " product=product * num\n",
    "print(\"product of all number:\", product)"
   ]
  },
  {
   "cell_type": "code",
   "execution_count": null,
   "id": "4eca392b-ffe9-402c-9f77-4b3c769e2ac8",
   "metadata": {},
   "outputs": [],
   "source": []
  },
  {
   "cell_type": "markdown",
   "id": "46804b2c-65f3-4e49-9a6c-fc9eba4b07c2",
   "metadata": {},
   "source": [
    "Q2. Write a python program for encrypting a message sent to you by your friend. The logic of encryption\n",
    "should be such that, for a the output should be z. For b, the output should be y. For c, the output should\n",
    "be x respectively. Also, the whitespace should be replaced with a dollar sign. Keep the punctuation\n",
    "marks unchanged.\n",
    "\n",
    "\n",
    "Input Sentence: I want to become a Data Scientist.\n",
    "\n",
    "\n",
    "Encrypt the above input sentence using the program you just created.\n",
    "\n",
    "\n",
    "Note: Convert the given input sentence into lowercase before encrypting. The final output should be\n",
    "lowercase."
   ]
  },
  {
   "cell_type": "markdown",
   "id": "8969e211-de9c-4eb3-bed6-8c725df2d3aa",
   "metadata": {},
   "source": [
    "Answer:"
   ]
  },
  {
   "cell_type": "code",
   "execution_count": 15,
   "id": "a14cb3d7-0318-4b19-8b21-da6d6cfc6ea8",
   "metadata": {},
   "outputs": [
    {
     "name": "stdout",
     "output_type": "stream",
     "text": [
      "input_sentence I want to become a Data Scientist.\n",
      "\n",
      "lowercase_sentence : i want to become a data scientist.\n",
      "\n",
      "Encrypted Message: i$wznt$to$yexome$z$dztz$sxientist.\n"
     ]
    }
   ],
   "source": [
    "def encrypt_message(message):\n",
    "    encrypted_message = \"\"\n",
    "    for char in message:\n",
    "        if char == 'a':\n",
    "            encrypted_message += 'z'\n",
    "        elif char == 'b':\n",
    "            encrypted_message += 'y'\n",
    "        elif char == 'c':\n",
    "            encrypted_message += 'x'\n",
    "        elif char.isspace():\n",
    "            encrypted_message += '$'    \n",
    "        else:\n",
    "            encrypted_message += char\n",
    "\n",
    "    return encrypted_message\n",
    "\n",
    "input_sentence = \"I want to become a Data Scientist.\"\n",
    "print(\"input_sentence\",input_sentence)\n",
    "\n",
    "lowercase_sentence = input_sentence.lower()\n",
    "print(\"\\nlowercase_sentence :\",lowercase_sentence)\n",
    "\n",
    "encrypted_result = encrypt_message(lowercase_sentence)\n",
    "\n",
    "print(\"\\nEncrypted Message:\", encrypted_result)\n"
   ]
  }
 ],
 "metadata": {
  "kernelspec": {
   "display_name": "Python 3 (ipykernel)",
   "language": "python",
   "name": "python3"
  },
  "language_info": {
   "codemirror_mode": {
    "name": "ipython",
    "version": 3
   },
   "file_extension": ".py",
   "mimetype": "text/x-python",
   "name": "python",
   "nbconvert_exporter": "python",
   "pygments_lexer": "ipython3",
   "version": "3.10.8"
  }
 },
 "nbformat": 4,
 "nbformat_minor": 5
}
